{
  "nbformat": 4,
  "nbformat_minor": 0,
  "metadata": {
    "colab": {
      "provenance": [],
      "authorship_tag": "ABX9TyN5ulCCesdsCGIXBshUNw1z",
      "include_colab_link": true
    },
    "kernelspec": {
      "name": "python3",
      "display_name": "Python 3"
    },
    "language_info": {
      "name": "python"
    }
  },
  "cells": [
    {
      "cell_type": "markdown",
      "metadata": {
        "id": "view-in-github",
        "colab_type": "text"
      },
      "source": [
        "<a href=\"https://colab.research.google.com/github/tuenv193176/Project3/blob/main/ProjectIII.ipynb\" target=\"_parent\"><img src=\"https://colab.research.google.com/assets/colab-badge.svg\" alt=\"Open In Colab\"/></a>"
      ]
    },
    {
      "cell_type": "code",
      "execution_count": 2,
      "metadata": {
        "id": "XYr9BP-eCIeE"
      },
      "outputs": [],
      "source": [
        "import torch\n",
        "import torch.nn as nn\n",
        "import torch.optim as optim\n",
        "from torch.utils.data import TensorDataset, DataLoader\n",
        "import numpy as np\n",
        "import pandas as pd\n",
        "import re\n",
        "from sklearn.model_selection import train_test_split\n",
        "from sklearn.preprocessing import StandardScaler\n"
      ]
    },
    {
      "cell_type": "code",
      "source": [
        "# Tải dữ liệu từ tệp CSV\n",
        "dataset = pd.read_csv('/content/rawdata.csv')\n",
        "\n",
        "# Hàm để trích xuất giá trị 'lp' và 'wp' từ tên cột\n",
        "def extract_lp_wp(column_name):\n",
        "    match = re.search(r\"lp='(\\d+\\.?\\d*)mm' wp='(\\d+\\.?\\d*)mm'\", column_name)\n",
        "    if match:\n",
        "        return float(match.group(1)), float(match.group(2))\n",
        "    return None\n"
      ],
      "metadata": {
        "id": "FRjhp0RVDDOw"
      },
      "execution_count": 3,
      "outputs": []
    },
    {
      "cell_type": "code",
      "source": [
        "# Chuẩn bị dữ liệu đầu vào và đầu ra\n",
        "input_data = dataset.iloc[:, 1:].T\n",
        "input_data.columns = dataset['Freq [GHz]']\n",
        "output_data = [extract_lp_wp(col) for col in dataset.columns[1:]]\n",
        "output_data = np.array([list(i) for i in output_data if i is not None])\n",
        "\n",
        "# Chia dữ liệu thành tập đào tạo và kiểm tra\n",
        "X_train, X_test, y_train, y_test = train_test_split(input_data, output_data, test_size=0.2, random_state=42)\n",
        "\n",
        "# Chuẩn hóa dữ liệu đầu vào\n",
        "scaler = StandardScaler()\n",
        "X_train_scaled = scaler.fit_transform(X_train)\n",
        "X_test_scaled = scaler.transform(X_test)\n",
        "\n",
        "# Chuyển đổi sang tensors của PyTorch\n",
        "X_train_tensor = torch.tensor(X_train_scaled, dtype=torch.float32)\n",
        "y_train_tensor = torch.tensor(y_train, dtype=torch.float32)\n",
        "X_test_tensor = torch.tensor(X_test_scaled, dtype=torch.float32)\n",
        "y_test_tensor = torch.tensor(y_test, dtype=torch.float32)\n",
        "\n",
        "# Tạo DataLoader\n",
        "train_data = TensorDataset(X_train_tensor, y_train_tensor)\n",
        "train_loader = DataLoader(train_data, batch_size=10, shuffle=True)"
      ],
      "metadata": {
        "id": "g9Bz4lzVD4gX"
      },
      "execution_count": 4,
      "outputs": []
    },
    {
      "cell_type": "code",
      "source": [
        "input_data_sample = input_data[:5]  # Lấy 5 mẫu đầu tiên\n",
        "input_data_sample"
      ],
      "metadata": {
        "colab": {
          "base_uri": "https://localhost:8080/",
          "height": 429
        },
        "id": "GcXmhNVSThkf",
        "outputId": "18469c87-49c2-495d-81ae-183da77cda86"
      },
      "execution_count": null,
      "outputs": [
        {
          "output_type": "execute_result",
          "data": {
            "text/plain": [
              "Freq [GHz]                                   2.0       2.1       2.2  \\\n",
              "dB(S(1,1)) [] - lp='20mm' wp='30mm'    -0.718975 -0.717056 -0.705753   \n",
              "dB(S(1,1)) [] - lp='20mm' wp='30.25mm' -0.727161 -0.720977 -0.709381   \n",
              "dB(S(1,1)) [] - lp='20mm' wp='30.5mm'  -0.707616 -0.682726 -0.653128   \n",
              "dB(S(1,1)) [] - lp='20mm' wp='30.75mm' -0.726102 -0.724409 -0.716535   \n",
              "dB(S(1,1)) [] - lp='20mm' wp='31mm'    -0.723406 -0.720180 -0.713513   \n",
              "\n",
              "Freq [GHz]                                   2.3       2.4       2.5  \\\n",
              "dB(S(1,1)) [] - lp='20mm' wp='30mm'    -0.689226 -0.670279 -0.650838   \n",
              "dB(S(1,1)) [] - lp='20mm' wp='30.25mm' -0.692911 -0.672958 -0.651544   \n",
              "dB(S(1,1)) [] - lp='20mm' wp='30.5mm'  -0.623606 -0.597851 -0.578786   \n",
              "dB(S(1,1)) [] - lp='20mm' wp='30.75mm' -0.702518 -0.683441 -0.661193   \n",
              "dB(S(1,1)) [] - lp='20mm' wp='31mm'    -0.701092 -0.682798 -0.660446   \n",
              "\n",
              "Freq [GHz]                                   2.6       2.7       2.8  \\\n",
              "dB(S(1,1)) [] - lp='20mm' wp='30mm'    -0.632544 -0.617475 -0.609313   \n",
              "dB(S(1,1)) [] - lp='20mm' wp='30.25mm' -0.631158 -0.614763 -0.606378   \n",
              "dB(S(1,1)) [] - lp='20mm' wp='30.5mm'  -0.569626 -0.576315 -0.614629   \n",
              "dB(S(1,1)) [] - lp='20mm' wp='30.75mm' -0.638179 -0.617084 -0.600864   \n",
              "dB(S(1,1)) [] - lp='20mm' wp='31mm'    -0.637217 -0.616888 -0.603084   \n",
              "\n",
              "Freq [GHz]                                   2.9  ...       3.1       3.2  \\\n",
              "dB(S(1,1)) [] - lp='20mm' wp='30mm'    -0.616434  ... -0.888989 -1.903620   \n",
              "dB(S(1,1)) [] - lp='20mm' wp='30.25mm' -0.613740  ... -0.893576 -1.551701   \n",
              "dB(S(1,1)) [] - lp='20mm' wp='30.5mm'  -0.740067  ... -4.044286 -1.818257   \n",
              "dB(S(1,1)) [] - lp='20mm' wp='30.75mm' -0.593398  ... -0.655492 -0.918738   \n",
              "dB(S(1,1)) [] - lp='20mm' wp='31mm'    -0.599108  ... -0.665559 -0.997142   \n",
              "\n",
              "Freq [GHz]                                   3.3       3.4       3.5  \\\n",
              "dB(S(1,1)) [] - lp='20mm' wp='30mm'    -1.016751 -0.743980 -0.718570   \n",
              "dB(S(1,1)) [] - lp='20mm' wp='30.25mm' -0.839057 -0.713192 -0.717279   \n",
              "dB(S(1,1)) [] - lp='20mm' wp='30.5mm'  -0.984172 -0.857661 -0.881822   \n",
              "dB(S(1,1)) [] - lp='20mm' wp='30.75mm' -1.238618 -0.765545 -0.704284   \n",
              "dB(S(1,1)) [] - lp='20mm' wp='31mm'    -1.170709 -0.760040 -0.714457   \n",
              "\n",
              "Freq [GHz]                                   3.6       3.7       3.8  \\\n",
              "dB(S(1,1)) [] - lp='20mm' wp='30mm'    -0.753090 -0.816706 -0.903687   \n",
              "dB(S(1,1)) [] - lp='20mm' wp='30.25mm' -0.761979 -0.833263 -0.930180   \n",
              "dB(S(1,1)) [] - lp='20mm' wp='30.5mm'  -0.962395 -1.073001 -1.218415   \n",
              "dB(S(1,1)) [] - lp='20mm' wp='30.75mm' -0.731283 -0.795422 -0.889517   \n",
              "dB(S(1,1)) [] - lp='20mm' wp='31mm'    -0.761342 -0.839802 -0.935520   \n",
              "\n",
              "Freq [GHz]                                   3.9       4.0  \n",
              "dB(S(1,1)) [] - lp='20mm' wp='30mm'    -1.017378 -1.168656  \n",
              "dB(S(1,1)) [] - lp='20mm' wp='30.25mm' -1.056461 -1.220792  \n",
              "dB(S(1,1)) [] - lp='20mm' wp='30.5mm'  -1.450133 -1.885325  \n",
              "dB(S(1,1)) [] - lp='20mm' wp='30.75mm' -1.016376 -1.187123  \n",
              "dB(S(1,1)) [] - lp='20mm' wp='31mm'    -1.063849 -1.261506  \n",
              "\n",
              "[5 rows x 21 columns]"
            ],
            "text/html": [
              "\n",
              "  <div id=\"df-72fa755d-d353-4326-bd64-99e28c3e3c2c\" class=\"colab-df-container\">\n",
              "    <div>\n",
              "<style scoped>\n",
              "    .dataframe tbody tr th:only-of-type {\n",
              "        vertical-align: middle;\n",
              "    }\n",
              "\n",
              "    .dataframe tbody tr th {\n",
              "        vertical-align: top;\n",
              "    }\n",
              "\n",
              "    .dataframe thead th {\n",
              "        text-align: right;\n",
              "    }\n",
              "</style>\n",
              "<table border=\"1\" class=\"dataframe\">\n",
              "  <thead>\n",
              "    <tr style=\"text-align: right;\">\n",
              "      <th>Freq [GHz]</th>\n",
              "      <th>2.0</th>\n",
              "      <th>2.1</th>\n",
              "      <th>2.2</th>\n",
              "      <th>2.3</th>\n",
              "      <th>2.4</th>\n",
              "      <th>2.5</th>\n",
              "      <th>2.6</th>\n",
              "      <th>2.7</th>\n",
              "      <th>2.8</th>\n",
              "      <th>2.9</th>\n",
              "      <th>...</th>\n",
              "      <th>3.1</th>\n",
              "      <th>3.2</th>\n",
              "      <th>3.3</th>\n",
              "      <th>3.4</th>\n",
              "      <th>3.5</th>\n",
              "      <th>3.6</th>\n",
              "      <th>3.7</th>\n",
              "      <th>3.8</th>\n",
              "      <th>3.9</th>\n",
              "      <th>4.0</th>\n",
              "    </tr>\n",
              "  </thead>\n",
              "  <tbody>\n",
              "    <tr>\n",
              "      <th>dB(S(1,1)) [] - lp='20mm' wp='30mm'</th>\n",
              "      <td>-0.718975</td>\n",
              "      <td>-0.717056</td>\n",
              "      <td>-0.705753</td>\n",
              "      <td>-0.689226</td>\n",
              "      <td>-0.670279</td>\n",
              "      <td>-0.650838</td>\n",
              "      <td>-0.632544</td>\n",
              "      <td>-0.617475</td>\n",
              "      <td>-0.609313</td>\n",
              "      <td>-0.616434</td>\n",
              "      <td>...</td>\n",
              "      <td>-0.888989</td>\n",
              "      <td>-1.903620</td>\n",
              "      <td>-1.016751</td>\n",
              "      <td>-0.743980</td>\n",
              "      <td>-0.718570</td>\n",
              "      <td>-0.753090</td>\n",
              "      <td>-0.816706</td>\n",
              "      <td>-0.903687</td>\n",
              "      <td>-1.017378</td>\n",
              "      <td>-1.168656</td>\n",
              "    </tr>\n",
              "    <tr>\n",
              "      <th>dB(S(1,1)) [] - lp='20mm' wp='30.25mm'</th>\n",
              "      <td>-0.727161</td>\n",
              "      <td>-0.720977</td>\n",
              "      <td>-0.709381</td>\n",
              "      <td>-0.692911</td>\n",
              "      <td>-0.672958</td>\n",
              "      <td>-0.651544</td>\n",
              "      <td>-0.631158</td>\n",
              "      <td>-0.614763</td>\n",
              "      <td>-0.606378</td>\n",
              "      <td>-0.613740</td>\n",
              "      <td>...</td>\n",
              "      <td>-0.893576</td>\n",
              "      <td>-1.551701</td>\n",
              "      <td>-0.839057</td>\n",
              "      <td>-0.713192</td>\n",
              "      <td>-0.717279</td>\n",
              "      <td>-0.761979</td>\n",
              "      <td>-0.833263</td>\n",
              "      <td>-0.930180</td>\n",
              "      <td>-1.056461</td>\n",
              "      <td>-1.220792</td>\n",
              "    </tr>\n",
              "    <tr>\n",
              "      <th>dB(S(1,1)) [] - lp='20mm' wp='30.5mm'</th>\n",
              "      <td>-0.707616</td>\n",
              "      <td>-0.682726</td>\n",
              "      <td>-0.653128</td>\n",
              "      <td>-0.623606</td>\n",
              "      <td>-0.597851</td>\n",
              "      <td>-0.578786</td>\n",
              "      <td>-0.569626</td>\n",
              "      <td>-0.576315</td>\n",
              "      <td>-0.614629</td>\n",
              "      <td>-0.740067</td>\n",
              "      <td>...</td>\n",
              "      <td>-4.044286</td>\n",
              "      <td>-1.818257</td>\n",
              "      <td>-0.984172</td>\n",
              "      <td>-0.857661</td>\n",
              "      <td>-0.881822</td>\n",
              "      <td>-0.962395</td>\n",
              "      <td>-1.073001</td>\n",
              "      <td>-1.218415</td>\n",
              "      <td>-1.450133</td>\n",
              "      <td>-1.885325</td>\n",
              "    </tr>\n",
              "    <tr>\n",
              "      <th>dB(S(1,1)) [] - lp='20mm' wp='30.75mm'</th>\n",
              "      <td>-0.726102</td>\n",
              "      <td>-0.724409</td>\n",
              "      <td>-0.716535</td>\n",
              "      <td>-0.702518</td>\n",
              "      <td>-0.683441</td>\n",
              "      <td>-0.661193</td>\n",
              "      <td>-0.638179</td>\n",
              "      <td>-0.617084</td>\n",
              "      <td>-0.600864</td>\n",
              "      <td>-0.593398</td>\n",
              "      <td>...</td>\n",
              "      <td>-0.655492</td>\n",
              "      <td>-0.918738</td>\n",
              "      <td>-1.238618</td>\n",
              "      <td>-0.765545</td>\n",
              "      <td>-0.704284</td>\n",
              "      <td>-0.731283</td>\n",
              "      <td>-0.795422</td>\n",
              "      <td>-0.889517</td>\n",
              "      <td>-1.016376</td>\n",
              "      <td>-1.187123</td>\n",
              "    </tr>\n",
              "    <tr>\n",
              "      <th>dB(S(1,1)) [] - lp='20mm' wp='31mm'</th>\n",
              "      <td>-0.723406</td>\n",
              "      <td>-0.720180</td>\n",
              "      <td>-0.713513</td>\n",
              "      <td>-0.701092</td>\n",
              "      <td>-0.682798</td>\n",
              "      <td>-0.660446</td>\n",
              "      <td>-0.637217</td>\n",
              "      <td>-0.616888</td>\n",
              "      <td>-0.603084</td>\n",
              "      <td>-0.599108</td>\n",
              "      <td>...</td>\n",
              "      <td>-0.665559</td>\n",
              "      <td>-0.997142</td>\n",
              "      <td>-1.170709</td>\n",
              "      <td>-0.760040</td>\n",
              "      <td>-0.714457</td>\n",
              "      <td>-0.761342</td>\n",
              "      <td>-0.839802</td>\n",
              "      <td>-0.935520</td>\n",
              "      <td>-1.063849</td>\n",
              "      <td>-1.261506</td>\n",
              "    </tr>\n",
              "  </tbody>\n",
              "</table>\n",
              "<p>5 rows × 21 columns</p>\n",
              "</div>\n",
              "    <div class=\"colab-df-buttons\">\n",
              "\n",
              "  <div class=\"colab-df-container\">\n",
              "    <button class=\"colab-df-convert\" onclick=\"convertToInteractive('df-72fa755d-d353-4326-bd64-99e28c3e3c2c')\"\n",
              "            title=\"Convert this dataframe to an interactive table.\"\n",
              "            style=\"display:none;\">\n",
              "\n",
              "  <svg xmlns=\"http://www.w3.org/2000/svg\" height=\"24px\" viewBox=\"0 -960 960 960\">\n",
              "    <path d=\"M120-120v-720h720v720H120Zm60-500h600v-160H180v160Zm220 220h160v-160H400v160Zm0 220h160v-160H400v160ZM180-400h160v-160H180v160Zm440 0h160v-160H620v160ZM180-180h160v-160H180v160Zm440 0h160v-160H620v160Z\"/>\n",
              "  </svg>\n",
              "    </button>\n",
              "\n",
              "  <style>\n",
              "    .colab-df-container {\n",
              "      display:flex;\n",
              "      gap: 12px;\n",
              "    }\n",
              "\n",
              "    .colab-df-convert {\n",
              "      background-color: #E8F0FE;\n",
              "      border: none;\n",
              "      border-radius: 50%;\n",
              "      cursor: pointer;\n",
              "      display: none;\n",
              "      fill: #1967D2;\n",
              "      height: 32px;\n",
              "      padding: 0 0 0 0;\n",
              "      width: 32px;\n",
              "    }\n",
              "\n",
              "    .colab-df-convert:hover {\n",
              "      background-color: #E2EBFA;\n",
              "      box-shadow: 0px 1px 2px rgba(60, 64, 67, 0.3), 0px 1px 3px 1px rgba(60, 64, 67, 0.15);\n",
              "      fill: #174EA6;\n",
              "    }\n",
              "\n",
              "    .colab-df-buttons div {\n",
              "      margin-bottom: 4px;\n",
              "    }\n",
              "\n",
              "    [theme=dark] .colab-df-convert {\n",
              "      background-color: #3B4455;\n",
              "      fill: #D2E3FC;\n",
              "    }\n",
              "\n",
              "    [theme=dark] .colab-df-convert:hover {\n",
              "      background-color: #434B5C;\n",
              "      box-shadow: 0px 1px 3px 1px rgba(0, 0, 0, 0.15);\n",
              "      filter: drop-shadow(0px 1px 2px rgba(0, 0, 0, 0.3));\n",
              "      fill: #FFFFFF;\n",
              "    }\n",
              "  </style>\n",
              "\n",
              "    <script>\n",
              "      const buttonEl =\n",
              "        document.querySelector('#df-72fa755d-d353-4326-bd64-99e28c3e3c2c button.colab-df-convert');\n",
              "      buttonEl.style.display =\n",
              "        google.colab.kernel.accessAllowed ? 'block' : 'none';\n",
              "\n",
              "      async function convertToInteractive(key) {\n",
              "        const element = document.querySelector('#df-72fa755d-d353-4326-bd64-99e28c3e3c2c');\n",
              "        const dataTable =\n",
              "          await google.colab.kernel.invokeFunction('convertToInteractive',\n",
              "                                                    [key], {});\n",
              "        if (!dataTable) return;\n",
              "\n",
              "        const docLinkHtml = 'Like what you see? Visit the ' +\n",
              "          '<a target=\"_blank\" href=https://colab.research.google.com/notebooks/data_table.ipynb>data table notebook</a>'\n",
              "          + ' to learn more about interactive tables.';\n",
              "        element.innerHTML = '';\n",
              "        dataTable['output_type'] = 'display_data';\n",
              "        await google.colab.output.renderOutput(dataTable, element);\n",
              "        const docLink = document.createElement('div');\n",
              "        docLink.innerHTML = docLinkHtml;\n",
              "        element.appendChild(docLink);\n",
              "      }\n",
              "    </script>\n",
              "  </div>\n",
              "\n",
              "\n",
              "<div id=\"df-3e045971-6586-453b-9e36-2563a4ded66d\">\n",
              "  <button class=\"colab-df-quickchart\" onclick=\"quickchart('df-3e045971-6586-453b-9e36-2563a4ded66d')\"\n",
              "            title=\"Suggest charts\"\n",
              "            style=\"display:none;\">\n",
              "\n",
              "<svg xmlns=\"http://www.w3.org/2000/svg\" height=\"24px\"viewBox=\"0 0 24 24\"\n",
              "     width=\"24px\">\n",
              "    <g>\n",
              "        <path d=\"M19 3H5c-1.1 0-2 .9-2 2v14c0 1.1.9 2 2 2h14c1.1 0 2-.9 2-2V5c0-1.1-.9-2-2-2zM9 17H7v-7h2v7zm4 0h-2V7h2v10zm4 0h-2v-4h2v4z\"/>\n",
              "    </g>\n",
              "</svg>\n",
              "  </button>\n",
              "\n",
              "<style>\n",
              "  .colab-df-quickchart {\n",
              "      --bg-color: #E8F0FE;\n",
              "      --fill-color: #1967D2;\n",
              "      --hover-bg-color: #E2EBFA;\n",
              "      --hover-fill-color: #174EA6;\n",
              "      --disabled-fill-color: #AAA;\n",
              "      --disabled-bg-color: #DDD;\n",
              "  }\n",
              "\n",
              "  [theme=dark] .colab-df-quickchart {\n",
              "      --bg-color: #3B4455;\n",
              "      --fill-color: #D2E3FC;\n",
              "      --hover-bg-color: #434B5C;\n",
              "      --hover-fill-color: #FFFFFF;\n",
              "      --disabled-bg-color: #3B4455;\n",
              "      --disabled-fill-color: #666;\n",
              "  }\n",
              "\n",
              "  .colab-df-quickchart {\n",
              "    background-color: var(--bg-color);\n",
              "    border: none;\n",
              "    border-radius: 50%;\n",
              "    cursor: pointer;\n",
              "    display: none;\n",
              "    fill: var(--fill-color);\n",
              "    height: 32px;\n",
              "    padding: 0;\n",
              "    width: 32px;\n",
              "  }\n",
              "\n",
              "  .colab-df-quickchart:hover {\n",
              "    background-color: var(--hover-bg-color);\n",
              "    box-shadow: 0 1px 2px rgba(60, 64, 67, 0.3), 0 1px 3px 1px rgba(60, 64, 67, 0.15);\n",
              "    fill: var(--button-hover-fill-color);\n",
              "  }\n",
              "\n",
              "  .colab-df-quickchart-complete:disabled,\n",
              "  .colab-df-quickchart-complete:disabled:hover {\n",
              "    background-color: var(--disabled-bg-color);\n",
              "    fill: var(--disabled-fill-color);\n",
              "    box-shadow: none;\n",
              "  }\n",
              "\n",
              "  .colab-df-spinner {\n",
              "    border: 2px solid var(--fill-color);\n",
              "    border-color: transparent;\n",
              "    border-bottom-color: var(--fill-color);\n",
              "    animation:\n",
              "      spin 1s steps(1) infinite;\n",
              "  }\n",
              "\n",
              "  @keyframes spin {\n",
              "    0% {\n",
              "      border-color: transparent;\n",
              "      border-bottom-color: var(--fill-color);\n",
              "      border-left-color: var(--fill-color);\n",
              "    }\n",
              "    20% {\n",
              "      border-color: transparent;\n",
              "      border-left-color: var(--fill-color);\n",
              "      border-top-color: var(--fill-color);\n",
              "    }\n",
              "    30% {\n",
              "      border-color: transparent;\n",
              "      border-left-color: var(--fill-color);\n",
              "      border-top-color: var(--fill-color);\n",
              "      border-right-color: var(--fill-color);\n",
              "    }\n",
              "    40% {\n",
              "      border-color: transparent;\n",
              "      border-right-color: var(--fill-color);\n",
              "      border-top-color: var(--fill-color);\n",
              "    }\n",
              "    60% {\n",
              "      border-color: transparent;\n",
              "      border-right-color: var(--fill-color);\n",
              "    }\n",
              "    80% {\n",
              "      border-color: transparent;\n",
              "      border-right-color: var(--fill-color);\n",
              "      border-bottom-color: var(--fill-color);\n",
              "    }\n",
              "    90% {\n",
              "      border-color: transparent;\n",
              "      border-bottom-color: var(--fill-color);\n",
              "    }\n",
              "  }\n",
              "</style>\n",
              "\n",
              "  <script>\n",
              "    async function quickchart(key) {\n",
              "      const quickchartButtonEl =\n",
              "        document.querySelector('#' + key + ' button');\n",
              "      quickchartButtonEl.disabled = true;  // To prevent multiple clicks.\n",
              "      quickchartButtonEl.classList.add('colab-df-spinner');\n",
              "      try {\n",
              "        const charts = await google.colab.kernel.invokeFunction(\n",
              "            'suggestCharts', [key], {});\n",
              "      } catch (error) {\n",
              "        console.error('Error during call to suggestCharts:', error);\n",
              "      }\n",
              "      quickchartButtonEl.classList.remove('colab-df-spinner');\n",
              "      quickchartButtonEl.classList.add('colab-df-quickchart-complete');\n",
              "    }\n",
              "    (() => {\n",
              "      let quickchartButtonEl =\n",
              "        document.querySelector('#df-3e045971-6586-453b-9e36-2563a4ded66d button');\n",
              "      quickchartButtonEl.style.display =\n",
              "        google.colab.kernel.accessAllowed ? 'block' : 'none';\n",
              "    })();\n",
              "  </script>\n",
              "</div>\n",
              "\n",
              "  <div id=\"id_87da4986-070b-4d76-a669-d801683ceb85\">\n",
              "    <style>\n",
              "      .colab-df-generate {\n",
              "        background-color: #E8F0FE;\n",
              "        border: none;\n",
              "        border-radius: 50%;\n",
              "        cursor: pointer;\n",
              "        display: none;\n",
              "        fill: #1967D2;\n",
              "        height: 32px;\n",
              "        padding: 0 0 0 0;\n",
              "        width: 32px;\n",
              "      }\n",
              "\n",
              "      .colab-df-generate:hover {\n",
              "        background-color: #E2EBFA;\n",
              "        box-shadow: 0px 1px 2px rgba(60, 64, 67, 0.3), 0px 1px 3px 1px rgba(60, 64, 67, 0.15);\n",
              "        fill: #174EA6;\n",
              "      }\n",
              "\n",
              "      [theme=dark] .colab-df-generate {\n",
              "        background-color: #3B4455;\n",
              "        fill: #D2E3FC;\n",
              "      }\n",
              "\n",
              "      [theme=dark] .colab-df-generate:hover {\n",
              "        background-color: #434B5C;\n",
              "        box-shadow: 0px 1px 3px 1px rgba(0, 0, 0, 0.15);\n",
              "        filter: drop-shadow(0px 1px 2px rgba(0, 0, 0, 0.3));\n",
              "        fill: #FFFFFF;\n",
              "      }\n",
              "    </style>\n",
              "    <button class=\"colab-df-generate\" onclick=\"generateWithVariable('input_data_sample')\"\n",
              "            title=\"Generate code using this dataframe.\"\n",
              "            style=\"display:none;\">\n",
              "\n",
              "  <svg xmlns=\"http://www.w3.org/2000/svg\" height=\"24px\"viewBox=\"0 0 24 24\"\n",
              "       width=\"24px\">\n",
              "    <path d=\"M7,19H8.4L18.45,9,17,7.55,7,17.6ZM5,21V16.75L18.45,3.32a2,2,0,0,1,2.83,0l1.4,1.43a1.91,1.91,0,0,1,.58,1.4,1.91,1.91,0,0,1-.58,1.4L9.25,21ZM18.45,9,17,7.55Zm-12,3A5.31,5.31,0,0,0,4.9,8.1,5.31,5.31,0,0,0,1,6.5,5.31,5.31,0,0,0,4.9,4.9,5.31,5.31,0,0,0,6.5,1,5.31,5.31,0,0,0,8.1,4.9,5.31,5.31,0,0,0,12,6.5,5.46,5.46,0,0,0,6.5,12Z\"/>\n",
              "  </svg>\n",
              "    </button>\n",
              "    <script>\n",
              "      (() => {\n",
              "      const buttonEl =\n",
              "        document.querySelector('#id_87da4986-070b-4d76-a669-d801683ceb85 button.colab-df-generate');\n",
              "      buttonEl.style.display =\n",
              "        google.colab.kernel.accessAllowed ? 'block' : 'none';\n",
              "\n",
              "      buttonEl.onclick = () => {\n",
              "        google.colab.notebook.generateWithVariable('input_data_sample');\n",
              "      }\n",
              "      })();\n",
              "    </script>\n",
              "  </div>\n",
              "\n",
              "    </div>\n",
              "  </div>\n"
            ]
          },
          "metadata": {},
          "execution_count": 4
        }
      ]
    },
    {
      "cell_type": "code",
      "source": [
        "input_data.columns"
      ],
      "metadata": {
        "colab": {
          "base_uri": "https://localhost:8080/"
        },
        "id": "Qva-s2GSSQlA",
        "outputId": "81389b04-43b2-4cd2-9f90-759e38160090"
      },
      "execution_count": null,
      "outputs": [
        {
          "output_type": "execute_result",
          "data": {
            "text/plain": [
              "Float64Index([2.0, 2.1, 2.2, 2.3, 2.4, 2.5, 2.6, 2.7, 2.8, 2.9, 3.0, 3.1, 3.2,\n",
              "              3.3, 3.4, 3.5, 3.6, 3.7, 3.8, 3.9, 4.0],\n",
              "             dtype='float64', name='Freq [GHz]')"
            ]
          },
          "metadata": {},
          "execution_count": 5
        }
      ]
    },
    {
      "cell_type": "code",
      "source": [
        "output_data"
      ],
      "metadata": {
        "colab": {
          "base_uri": "https://localhost:8080/"
        },
        "id": "G0ato1RvSv0L",
        "outputId": "96e68bbb-f09f-4fb2-bd85-3e1a230d56d5"
      },
      "execution_count": null,
      "outputs": [
        {
          "output_type": "execute_result",
          "data": {
            "text/plain": [
              "array([[20.  , 30.  ],\n",
              "       [20.  , 30.25],\n",
              "       [20.  , 30.5 ],\n",
              "       ...,\n",
              "       [30.  , 39.5 ],\n",
              "       [30.  , 39.75],\n",
              "       [30.  , 40.  ]])"
            ]
          },
          "metadata": {},
          "execution_count": 6
        }
      ]
    },
    {
      "cell_type": "code",
      "source": [
        "# Xây dựng mô hình mạng nơ-ron\n",
        "class Net(nn.Module):\n",
        "    def __init__(self):\n",
        "        super(Net, self).__init__()\n",
        "        self.fc1 = nn.Linear(21, 64)  # 21 đầu vào, 64 nơ-ron ở lớp ẩn đầu tiên\n",
        "        self.fc2 = nn.Linear(64, 128)  # Lớp ẩn thứ hai\n",
        "        self.fc3 = nn.Linear(128, 2)   # 2 đầu ra\n",
        "\n",
        "    def forward(self, x):\n",
        "        x = torch.relu(self.fc1(x))\n",
        "        x = torch.relu(self.fc2(x))\n",
        "        x = self.fc3(x)\n",
        "        return x\n",
        "\n",
        "model = Net()"
      ],
      "metadata": {
        "id": "RQUUgCF7EsY6"
      },
      "execution_count": 5,
      "outputs": []
    },
    {
      "cell_type": "code",
      "source": [
        "model"
      ],
      "metadata": {
        "colab": {
          "base_uri": "https://localhost:8080/"
        },
        "id": "bmZp9HRHWZpE",
        "outputId": "e5ea9f2a-8196-41ae-fd77-59ed75174318"
      },
      "execution_count": null,
      "outputs": [
        {
          "output_type": "execute_result",
          "data": {
            "text/plain": [
              "Net(\n",
              "  (fc1): Linear(in_features=21, out_features=64, bias=True)\n",
              "  (fc2): Linear(in_features=64, out_features=128, bias=True)\n",
              "  (fc3): Linear(in_features=128, out_features=2, bias=True)\n",
              ")"
            ]
          },
          "metadata": {},
          "execution_count": 8
        }
      ]
    },
    {
      "cell_type": "code",
      "source": [
        "# Khởi tạo mô hình và bộ tối ưu hóa\n",
        "optimizer = optim.Adam(model.parameters(), lr=0.002)\n",
        "criterion = nn.MSELoss()"
      ],
      "metadata": {
        "id": "ptYwrUfZDGO0"
      },
      "execution_count": 36,
      "outputs": []
    },
    {
      "cell_type": "code",
      "source": [
        "# Đào tạo mô hình\n",
        "num_epochs = 200\n",
        "for epoch in range(num_epochs):\n",
        "    for inputs, targets in train_loader:\n",
        "        optimizer.zero_grad()\n",
        "        outputs = model(inputs)\n",
        "        loss = criterion(outputs, targets)\n",
        "        loss.backward()\n",
        "        optimizer.step()\n",
        "\n",
        "    if epoch % 10 == 0:\n",
        "          print(f'Epoch [{epoch+1}/{num_epochs}], Loss: {loss.item()}')\n"
      ],
      "metadata": {
        "colab": {
          "base_uri": "https://localhost:8080/"
        },
        "id": "8HEPfNhUDNwQ",
        "outputId": "bd5aa9c6-bb01-4fb2-9b75-b72af46f8b6a"
      },
      "execution_count": 37,
      "outputs": [
        {
          "output_type": "stream",
          "name": "stdout",
          "text": [
            "Epoch [1/200], Loss: 0.021386802196502686\n",
            "Epoch [11/200], Loss: 0.05496233329176903\n",
            "Epoch [21/200], Loss: 0.04764522612094879\n",
            "Epoch [31/200], Loss: 0.12539784610271454\n",
            "Epoch [41/200], Loss: 0.10839954763650894\n",
            "Epoch [51/200], Loss: 0.04634778946638107\n",
            "Epoch [61/200], Loss: 0.4936700761318207\n",
            "Epoch [71/200], Loss: 0.0030180944595485926\n",
            "Epoch [81/200], Loss: 0.18833887577056885\n",
            "Epoch [91/200], Loss: 0.07944366335868835\n",
            "Epoch [101/200], Loss: 0.06299304217100143\n",
            "Epoch [111/200], Loss: 0.02533411793410778\n",
            "Epoch [121/200], Loss: 0.07531698793172836\n",
            "Epoch [131/200], Loss: 0.07278726994991302\n",
            "Epoch [141/200], Loss: 0.024243272840976715\n",
            "Epoch [151/200], Loss: 0.07106650620698929\n",
            "Epoch [161/200], Loss: 0.03376195952296257\n",
            "Epoch [171/200], Loss: 0.0540960319340229\n",
            "Epoch [181/200], Loss: 0.03361409902572632\n",
            "Epoch [191/200], Loss: 0.05439947918057442\n"
          ]
        }
      ]
    },
    {
      "cell_type": "code",
      "source": [
        "# Đánh giá mô hình\n",
        "model.eval()\n",
        "with torch.no_grad():\n",
        "    predicted = model(X_test_tensor)\n",
        "    test_loss = criterion(predicted, y_test_tensor)\n",
        "    print(f'Test Loss (MSE): {test_loss.item()}')"
      ],
      "metadata": {
        "colab": {
          "base_uri": "https://localhost:8080/"
        },
        "id": "qGnIcVi3GCwZ",
        "outputId": "e8ac977b-0983-4185-9b55-9db80de95f58"
      },
      "execution_count": 38,
      "outputs": [
        {
          "output_type": "stream",
          "name": "stdout",
          "text": [
            "Test Loss (MSE): 0.07642518728971481\n"
          ]
        }
      ]
    },
    {
      "cell_type": "code",
      "source": [
        "# Chọn cột đầu tiên sau cột tần số để làm mẫu đầu vào\n",
        "sample_input_column = dataset.iloc[:, 1]\n",
        "\n",
        "# Chuyển đổi sang dạng mảng numpy và reshape để có kích thước phù hợp với mô hình\n",
        "sample_input = sample_input_column.values.reshape(1, -1)\n",
        "\n",
        "# Chuẩn hóa dữ liệu đầu vào\n",
        "sample_input_scaled = scaler.transform(sample_input)\n",
        "\n",
        "# Chuyển đổi thành tensor của PyTorch và thực hiện dự đoán\n",
        "sample_input_tensor = torch.tensor(sample_input_scaled, dtype=torch.float32)\n",
        "with torch.no_grad():\n",
        "    predicted_output = model(sample_input_tensor)\n",
        "    print(\"Dự đoán lp và wp:\", predicted_output.numpy())\n"
      ],
      "metadata": {
        "colab": {
          "base_uri": "https://localhost:8080/"
        },
        "id": "62RJbPAxG83E",
        "outputId": "866fc109-dad4-4da6-cbb4-66fd6bcfcec9"
      },
      "execution_count": 40,
      "outputs": [
        {
          "output_type": "stream",
          "name": "stdout",
          "text": [
            "Dự đoán lp và wp: [[20.314148 30.595493]]\n"
          ]
        }
      ]
    },
    {
      "cell_type": "code",
      "source": [
        "# Lấy dữ liệu S11 của anten microstrip 2.4, freq =[2:4:0.1], wp = 38, lp = 29.4, fast sweep\n",
        "sample_input = [-0.816939424, -0.995458087, -1.42383824, -3.105021488, -17.25113276, -3.209035676, -1.435305521, -1.008429243, -0.844779562, -0.764374014, -0.721526017, -0.704090271, -0.713973369, -0.766698236, -0.906894503, -1.274070172, -2.443538484, -8.228818754, -9.431100656, -2.936763508, -1.658649054]\n",
        "\n",
        "# Chuyển đổi sample_input thành mảng 2 chiều\n",
        "sample_input_2d = np.array(sample_input).reshape(1, -1)\n",
        "\n",
        "# Chuẩn hóa dữ liệu đầu vào\n",
        "sample_input_scaled = scaler.transform(sample_input_2d)\n",
        "\n",
        "# Chuyển đổi thành tensor của PyTorch và thực hiện dự đoán\n",
        "sample_input_tensor = torch.tensor(sample_input_scaled, dtype=torch.float32)\n",
        "with torch.no_grad():\n",
        "    predicted_output = model(sample_input_tensor)\n",
        "    print(\"Dự đoán lp và wp:\", predicted_output.numpy())\n"
      ],
      "metadata": {
        "colab": {
          "base_uri": "https://localhost:8080/"
        },
        "id": "qnhUt778MzLN",
        "outputId": "fbeb5765-1432-4972-a439-afb376085b81"
      },
      "execution_count": 42,
      "outputs": [
        {
          "output_type": "stream",
          "name": "stdout",
          "text": [
            "Dự đoán lp và wp: [[29.481127 37.766567]]\n"
          ]
        }
      ]
    },
    {
      "cell_type": "code",
      "source": [
        "# Lấy dữ liệu S11 của anten microstrip 2.4, freq =[2:4:0.1], lp = 27.1, wp = 36.2, fast sweep\n",
        "sample_input = [-0.72202, -0.77872, -0.86306, -1.02723, -1.47732, -3.57675, -10.714, -2.35412, -1.21591, -0.90394, -0.77637, -0.71535, -0.69072, -0.69707, -0.74246, -0.85298, -1.09815, -1.69067, -3.47952, -11.8626, -8.47031]\n",
        "\n",
        "# Chuyển đổi sample_input thành mảng 2 chiều\n",
        "sample_input_2d = np.array(sample_input).reshape(1, -1)\n",
        "\n",
        "# Chuẩn hóa dữ liệu đầu vào\n",
        "sample_input_scaled = scaler.transform(sample_input_2d)\n",
        "\n",
        "# Chuyển đổi thành tensor của PyTorch và thực hiện dự đoán\n",
        "sample_input_tensor = torch.tensor(sample_input_scaled, dtype=torch.float32)\n",
        "with torch.no_grad():\n",
        "    predicted_output = model(sample_input_tensor)\n",
        "    print(\"Dự đoán lp và wp:\", predicted_output.numpy())\n"
      ],
      "metadata": {
        "colab": {
          "base_uri": "https://localhost:8080/"
        },
        "id": "SKW_Y1mYqPPY",
        "outputId": "61334b2d-f7f4-4e12-a6bb-d6859ca32f01"
      },
      "execution_count": 43,
      "outputs": [
        {
          "output_type": "stream",
          "name": "stdout",
          "text": [
            "Dự đoán lp và wp: [[27.110249 36.240993]]\n"
          ]
        }
      ]
    },
    {
      "cell_type": "markdown",
      "source": [
        "Mô phỏng số liệu dự đoán và lý thuyết bằng HFSS"
      ],
      "metadata": {
        "id": "hYVRNNAQVUT7"
      }
    },
    {
      "cell_type": "markdown",
      "source": [
        "![test.png](data:image/png;base64,iVBORw0KGgoAAAANSUhEUgAABAIAAAG6CAYAAACSgeQKAAAAAXNSR0IArs4c6QAAAARnQU1BAACxjwv8YQUAAAAJcEhZcwAADsMAAA7DAcdvqGQAAF67SURBVHhe7d1vjBTXne//M7/Hg9kr/IAeWqMAApQH8YKT9fgBtlmDJYghsiUsx5MI52pZR4ByYdd4Y68c7LEimY3xDWwU0GWjqwx7d653QRcUbMHvZ/A1Nrqa8VVskpUiDc6YaGi6eQDaRczDVeY3n0Oddk1XdXX3dNVM/Xm/pKL+Tk11fanpOt8651TPrl27pg0AAAAAAMi1v/3bvzXlctn0TM/wlgEAAAAAgJyqVCo2EfD/ePMAAAAAAKAASAQAAAAAAJBif//3f+9NxYNEAAAAMfviiy9MX1+fWbRokbl48aK3dLYTJ06Ynp4es23bNjuvseb3799v58NoX9qn9q3f0Yz2oX2FDfr55557zty+fdvb+h79/lb7jaL9Xb161ZtrX7e/FwAAdI5EAAAAMVuxYoU5ePCgmZqaMi+99FKg0K1C78svv2xKpZI5cuSIXaax5v/bf/tvTZMHhw8ftvvUvvU75kI//84775gnnngicFxz9b/+1/8yX/nKV8zo6Ki3pD1Khrz77rveHAAACNXTY0dx1gogEQAAQAJ27Nhhtm7daj777DPz5ptvekvv2bt3r6nVarMK9K2SB67QrH1q3+0YHh426hPYP3zyySdm3bp19rjee+89b8vu/J//83/scXfCJUMAAMD8IxEAAEBCwp7yq9q+CvQvvvhioEDfLHkQVoNgrv7sz/7MvPXWW6a3t9ecPHnSWzr/lAxZunSpefTRR70lAACgkWoB/P3Md/9/mfnedPNxIBEAAEBCGp/y/8u//ItNCuiJ/CuvvOJtNVtY8iCsBkE3li9fbvsKaOX//t//ax588MFZ/Qv89V//9azaCmrj//bbb9vp559/3m7fimo3fPjhhzYhcd9993lLAQDAfCERAABAgvxP+Z999lm7TAXgJUuW2OlG/uSB+gRQMkCF5k6aBLRy7do1c/fuXW8unH7v448/bo/b0TH99Kc/Nd/73ve8JZ3Tfvfs2WO+//3vm40bN3pLAQBInhLZSljv3LnTJreV5FZC23Xg6+Yd1chTh7Zunb9DX32fuX1o0D7ipqf/9ZoAMdcKIBEAAEDC9JR/1apVdrqdArBLHigB8N3vftfeaHTbJMDRU/5du3bZQv0zzzzjLZ1NN0qqwaBtdLN069atev8C+hxq2uBueM6ePWubOYj6JPj000/tdBi3X+2jWY0IAACSpu+qP/zhD2ZiYsL8+te/tol3fddpfnx83Bby9Z21fft2Mzg4aL8DtW5kZMR+/2nd0NCQOXPmjF2n7z/tQ8tj0+N1EOhPAMSYDCARAABAwi5fvmw+//xzO62biHZelaeCvxIAN2/enHOTAFXVd08q3PDQQw/ZY4mqYXDlypX6Nv/wD/9Qr72g/gWOHTs25/4F1O+B9htVIwIAgKTt27fPfg8tXrzY9lfjn9d33I0bN+x3oRLiu3fvtj+j7+FqtVr/7nQ190TLlFzI0ncbiQAAABLkqsKr3f83v/lN29Zfbf5b0Q3H17/+dftz69ev95Z2Tzc8f/VXf2V++ctfekuaW7NmjTf1pbVr19on+rpJ6uTJh86D+j2gSQAAIAv0PaekgJIDjVTgP3XqlK1N4BLt/mYD3ap3EPhf/su9+WbTXdQKIBEAAEBCXFV4PTXQU31VJ1RHgf6q9UkKe32gEhH/9b/+13l/anHu3Dl7HtSxoL+Ggs6FjmnlypWz2mUCALCQli1bZr+37ty54y2ZzdUQcE0D2q3x1w4V9F1hv53puSARAABAQlQVXp3tuWr4Kny7V/fpdYBx3TAkRe0kG7lmA7pBylIVSAAAOqEacPq+Pnr0qJ1Xcl8dDerJv76/V69ebWu7OapxF1Z7IK1IBAAAkAA98dfTb9UA8FfDV7V4VY9vt4nAQnDV//W0/i//8i/rTQDa6WiwmUOHDgVqJ2hQkkTNH9QJkzoeBAAgDVz1fz3pVw22+++/3ybB9X2m2gCvvvqq2bRpk12nJoBZ6/+GRAAAADHTkwI98deThLAbA/WYP59NBDrlr7nwi1/8wt786EbH39Hgk08+6W1tzAMPPGDH6pxQT0sAAEgjfb+pUz/X4V+reX/1fw3+hLW2ccv1St6s9X9DIgAAgJjpSb+e+DfrGM9f0E5rEwEd9wcffGATFo6O13U0qM/gKCngttNbDgAAQLr1TCuFAQAAAAAAcq1SqZhyuUyNAAAAAAAAioREAAAAAAAABZKqRIDaSPb19dkOiTRu1mYyart29wEAAAAAQBGlKhGgzpUGBwdtz4saN3utUtR27e4DAAAAAIAiSk0iQE/ub9y4YXbv3m3nt2zZYsbHxwNP9KO2a3cfAAAAALJFNX4ZGIo+xCU1iYBr166Zqakpb86Y5cuX27GW+0Vt1+4+AAAAAGSHCkCq8cvAUOQhTqlqGrB06VKzePFib665qO3a3QcAAAAAAEWUqkTAzZs3zZ07d7y55qK2a3cfTmNVCwYGBgYGBgYGBgaGdA0A4pWaRICq8ff29npzX1bnd9X7najt2t2HX1iVi3aHbn8+aqhWq6HL4xjYd3AYHR0NXR7HkNVzooF4BoesnhNiGRyyek40EM/gkNVzQiyDQ5LHrYF4BocsxBNAvFKTCFixYoVZtmyZOXr0qJ0/d+6cWbNmjV3uF7Vdu/sAAAAAAKCoUtU04MiRI2ZkZMRW/9FY86Je/1evXm0uXrxo55ttJ1HrAAAAACCvtm3bVm9O0dfXN69vT9PvevDBB9v6ne440bmPPvoodOhUqhIBenLvqg9p7J7ka3z16lWzcePG+nzYdhK1DgAAAADy5vbt27YQrtrQrjnFwYMHzfr161P3KnUdj175PjEx4S3BQkhVIgAAAAAA0JkrV67YvtJeeeUVb4kxO3bsMP/9v/938x//8R/mxIkTNlGghIHoibyWqcb1o48+amsPaJlbLtpW61ytbI0XLVpkn+T79xVG22ob1ep2NRTcfrdv324+++wzm6QQ/37nuxZDkZEIAAAAAIAMU99oeoX6kiVLvCX3bN682RbGo3z++efmH//xH83Zs2fNM888Y06ePGmXK7kga9eutYX+oaEhc+bMGVvb4PHHHzdvvvmmXd+M9vvqq6/a7YeHh83hw4ftfk6dOmXWrVtnLl++bOdfeukl8/Of/9xuNzg4aPbu3evtAUkiEQAAAAAAGfbAAw94U51btWqVLeyLntKr2r6eyiu58NBDD9nkgl7P/vvf/95s2rTJPrl/++23zfj4uP2ZZkqlUv2pvzp097/dzXE1GZ588kk7v2XLFrtfagUkj0QAAAAAAGSYCtoqrDdW11dV//3793tzral/Ne1LT/4/+eQTWzB3li5datv1uz4IVIMgirZXLYVOzfXn0BkSAQAAAACQYXqiPzU1Nau6vtrk//rXvza7d++2hXutV7JAT9u1vJl9+/aZY8eO2WlXU8AVzFWdXzpNMDTjjvu9996z882aOCB+JAIAAAAAIMNUcH7//ffNBx98UO+c7+WXX7YFdz3l19vX9EaBlStX2ur6jzzyiPeTQSqcq/O+nTt31gvkGr/11ltmz549dt9qPuDvmHCuGvfL69/nT8+06nWgKf2HjKJXFCL7JicnTX9/vzeHrCOe+UEs84V45gexzJcsxFO9yVNsQdGpbHrp0iVvbja94aEdlUrFlMtlEgHdUCCSOn21Ws12sJEE9h00NjZmBgYGvLl4ZfWcCPEMyuo5IZZBWT0nQjyDsnpOiGVQksctxDMoC/FM8r4byIo4EwE0DQAAAAAAoEBIBAAAAAAAUCA0DegCTQOCqBIXlNVzIsQzKKvnhFgGZfWcCPEMyuo5IZZBSR63EM+gLMRT990ffvihNwcUl66FMPQRMI9IBATxBRiU1XMixDMoq+eEWAZl9ZwI8QzK6jkhlkFJHrcQz6AsxDPJ+24gK3Qd0EcAAAAAAADoGIkAAACAdqg6ZsxDqa8vdHkcQ5L7Hnj44dDlcQyxHjcAIBSJgC7YyklhXzoxDPZLEAAAhAv73mxYFtdQ3zeypyGWGubl/4obACClSASkmf+LJMYh9AsQAIC4NXzXxPoUeQEMbdg5azBqr9zlUKtWQ5fHMSS577HR0dDlcQxzPe7G+NgYLbSw/7udDACQEBIBXbB/nkO+iOIY7JfgfAr78pnDwFMTAMiphr/3bQ0Jqhf0/N+bvu/ROAe379f+9z/MGpAujfGxMWqIpYak/6/EmojwXU8d12TAvLt48aLtsO327dt2etGiRTOh6KkPDz74oF3nPPfcc3Y7OXHixKxtt23bZpc7/m1F+3nyySfNF1984S0JatxGP6/9OI3zKBbeGtCCLsQo1fkusCfEfrmkWNKJkcnJSdPf3+/NIeuIZ34Qy2TM1998FYReGHnDmyOeeUIsk3F88IA3dc9rH/7Cm5ofSd9vdaNv5u9W2ostKlgPDQ2Z06dPmytXrtSnlyxZYtercL9mzRpz6NAhW/D/7W9/a6dVUN++fbs5deqUWbFiReS2ou3Xr19vpy9fvlz/Gb9m2+zfv9888MADZseOHaHzSDeVTeN6a4AuKMzRzHn0puJXrVa9qfglve/XN+z08uILNMzB6OioNxW/rMZSsnrsxDOIWAZl9ZxIff9hfwOTGmJAPIOyuu+sxlLyGk/df/mH0Ou4m2GO4jonSd53d+PChQvTvb299vgeeeQRO9y6dcsud9POt7/9bbtcy775zW9OT0xM2OVh2zqN27r5999/f3rdunX15X5R22ha69zvapxHuun/2aVLl0KHdl2/ft2OaRqA2DWrijfXoeOqdarF0e4AACk39Od/Gfjb1XUzrJC/tW5oWm0aQKq10yyi2dBWU4aGv0OzhoUSdixxDi2o6v1LL71kfv7zn8+cxmnz0EMPmampKW+tMZ999pm5//77Z3Z1r7r/u+++a5ertsDdu3fN4sWL7fzGjRvtz7pt9ZTeadxWtQvee++90FoATtQ22o/2p/2GzaM4SAQg9dyXWTtt+uaaNGjZgRUAzIeQvz+RVYND/g62NQCAz+aDO5smDzKbJJgHKjz39vbadviyZcsWO++sW7fO3Lp1a+Y0Ttvh+9//vjl8+LC5ceOGLYC7JgOiav9uu/Hx8ZlT12ObBIRt2w3tR/vTfsPmURwkApAr7WbA2/pS82v8Ums2AEAbwp7yR/4NafgbVk+MAkDCmtUwcPdSre6nIjs57FbDMcU+xExt8dtx9uxZMzw8bE6ePOktAeJHIgCF1Pil1uw1SHEkDGZ9AQIoHt/fAzc0fcof8nfIDgCQMu5eqpskQdjfx/qQAWvXrrVNAVQNX86dOzeraUAjdfinDgCXLVtm7ty5U3+DgJ78N75RQMK27Zb2o/1pv2HzKA4SAUCEZl9wjUPbCYOMfcEBaJ//KX9bCcCQvyUAkAf+JEFj0845JwlSSNXq33rrLbNnz56ZQ+wxn3zyyaymAY19BHzwwQfmlVdesQkEce3y1WP/448/Pmtb1QZQc4HGbZvRWwKUTHCvCmzG7adxv24exUEiAIhBVMLAfQEGvvBm/sjPGgBkRljVfp7yA0Br/iSB/2+iP0HQMkmQIuroT53tqW3/Rx99ZAclCPzL3fDpp5/adRp27txpaxA4/j4CNKh5gIRtK+oIUPtzHQJq/J3vfMdOO43biPaj/Wm/YfMoDhIBwDzxf+GFfsE1FCoALLxmbflbFfpnPQEDALTkTxCEJQnyRh0MqgbBxYsXvSXNtbOtq+LvL/Q30s9rP65zw8Z5FAuJAGABtPUF11j4AJAYFfg7esovvmu4PgAAYmfvm3JGT+BVe0A1B1ppZ1tt88Ybb3hz4fTzrsZC2DyKpWdadU8QSu1zWqnqqQ8yb3Jy0vT393tzC+v44AE7jiqA2KeNaCpN8UR3koylrrXIgr6H6y0+XJv5QSzzJQvx7OvrMxRbUHQqn166dMmbm+3RRx/1pqJVKhVTLpdJBHRDgUjq9NVqNVMqlby5eLHvoLGxMTMwMODNxavb47ZPKWe0fDKZAOIZlNVzQiwbNEv0xnQtJXlOhHgGZfWcEMugJI9biGdQFuLZ7L5bPe4///zz3pwxW7durbevD6PO9H7wgx/Yn+vmSbiq4quTv5/97GeR1fEbdXq8gF+ciQCaBgAp19hWjmYEwNzVq/873nVVHwAAmaFC/eHDh83ExMTMn/B7nezJ/v377TjMtWvXbCd+3dDv/drXvmbfCtCJuRwvkBQSAUDGNCYFSAwArbkEQL1mzcz1Q5V/AMg2Fer1ur7Fixd7S4x9uq4e+EWd4S1atGjmz39P/T39L730kvn444/NE088EXh//7Zt2+wyFdi1XIN+Vs0StEy0ratRsHTpUruskft59zNO1PHqaa7rDFDHoUG07LnnnqtPN36eZsujPgMgJAKADHth5I3OEwNAwSgJMKtpja4XAEDmqbO7hx56qP7+ff+TdRWGh4aGzJkzZ2b+7E/b9/S/+eab9r3/jzzyiHn//fe9LcPdvHnT7Nu3z/7s4OCg2bt3r12u5gTvvfdeZHOAsNf2SdTxavmNGzdsYV1jvQFAn0Gv91u2bFnTz9NsuTT7DICQCAByxN+MwCUFAokBf1JAA5BTYbUA7AAAyA3/+/fHx8dn/uz32Kf1Kkj//ve/N5s2bbLL3n77bbu+XXrav379eju9e/fueiG9W82O94EHHjAnT560tQZcnwp60q/X+23ZsqXp54n6nEl9BuQDiQAgp1xSoDExEDDzpTFrAHKAWgAAUDyqZj88PGwL1KKCsL89fied8qkw7q/CnwT/8arA/sc//tG888475tlnn7U1BH73u9/ZKv9r16612zf7PM2Wz8dnQHaRCAAKwp8U0NBWYgDIGGoBAEBxNLbxd9asWVMvAF++fNmO1ea+sVM+VbmfmpqyT9X1pPzXv/61t8bYjgDVBECOHj1qt+3k7QBhoo5X+77vvvvMhx9+aH+Xagioyv9Xv/pV2xyh2eeJ+pxJfAbkB4kAoKDCags0JgZKfX3eFJB+1AIAgGLR6/vUJt61udegp+uqfq/Cs/oD2LNnj12uavGvvPKKWb58ua1Kr84C1WZfhfCVK1faJ/LqO8DRU3b18K+fHRkZMUeOHPHWtKakggr8jdXwo45X1ATA1QDQ8axatcouk2afp9ly6eYzIP9IBACoJwUaEwPWzJcHkGbUAgCA4vK3ufdXixcV9PWqQC1X530qNOuJeLVatfOi7bVey/75n//ZFtadU6dO1dc1PknXfFiHgBK1Lup49bv9x3n16lX7GZywzxO1XKI+A4qNRACAAJcUIBmAtKMWAAAAQOd6ppUiQlOqShNF2TVk3+TkpOnv7/fm4Hd88EC9oJWV964Tz/xoFkv//0vJyv/NouPazA9imS9ZiKfeg0+xBUWnsumlS5e8udkeffRRbypapVIx5XKZREA3FIikTl+tVqu/OiRu7DtobGzMDAwMeHPxyuo5kfr+XUIsxv/vxDOIfQeFxTKuWgBZPSeSp3jGJavnhFgGJXncQjyDshDPJO+7gayIMxFA0wAALdFEAGlAXwAAAD+9Z1+Fn8Ze+Nul3vU16OfVuZ8KWRpcr/sau2VuUK/8YbSPJ598Mvb39LtjTJr/9+gzus/r/91664FbHvb2g2bnMS7+Y0T3SAQAaIn+ArCQlACgLwAAQFLefPNN+2o91Ti4cOGC+ad/+iebZPB37Kf39K9bty60530V/r/2ta/Z1/VlnQr7evPArVu37PDJJ5/Yc6Hhhz/8oT0/Oh86X+7VhE6z84h0IhEAoC0kA7AQzr/8C5sAoBYAACCKe2WfeyKtPgVaPZ3Xu/o1qMDveu/Xq/v02r5Ge/futa/+a+x5X0/Bf/CDH9gCtF7X5+h3q4bAY489Vn867p60u1oF7WzjjtFPtSBcAVvbuW217LnnnuvqXPjfXHDnzh1z8+ZNu17Jge985zv1txjofPnfsCDNzmOS5wJzRyIAQNtIBmC+UAsAANApFVr37dtnn0gPDg7awrv4q7S7QYVkFWQbC7NXrlyxYxVkHRWwVSh27+f3U4FZT8bDXs2nGgJ/8Rd/YWsT6D3+zzzzjJ1WodoVzFttE3aMDz30UH29xjo2JSTOnTtnn8hLt+dCBfGVK1eab33rW7bw/9vf/tb8+7//u1m0aFH9ZxqbBvg1nsekzgXmjkQAACBVXAKAWgAAgE7oifz69evt9O7du2cVIFUg9g966t1IBf5du3aZX/7yl7Pexa8Ctgrf/mXt8B+Pf9qvnW0a6an4yZMnzbVr1+odMerYVY1/y5Ytdr7bc6Gn+2oa8MEHH9ikgGi7P/zhD/ZnlHBQU4AwYecxqXOBuUtVIsCfoYqqwqLlWh+2XdQ6AN2jVgCSElYLYGx01JsCACCaCsWLFy/25r7U7Cm4nyu8nj9/ftbTfT319hew00AF5D/+8Y/mnXfeMc8++6xNUvzud7+zT+vdE/huzoWjQryaQ4yPj9t5TbuCvZ7Wu+V+zc4j0ic1iQD9p/F3QHHw4EGzffv20ConqtqiKi7azl/VRaLWAYgHyQDEjVoAAIBuqWq568Du6NGj9qm1CqOtnoJHFV7DmgosNB3jfffdZz788EP7GVVDYGhoyHz1q1+tF9Tnei5c23xROUw1AlToVyLkV7/6Vf0hq2okrFmzxk47JAGyJTWJAFVX+cY3vlHvgMJVBVGbFz/959O2quIi+k+pbJSWR60DEC+SAYhDWC2AmbsSbwIAgPapOvnhw4ftU261MQ/r4T+Mfubzzz+3beL1s3qyrkKtqGyhJ+v+ZgEqW+gp+kKWMVTOcTUAVG5Sx3z+WgtzPRdqEiD6ufvvv98mEJQ8UBnt1VdfrZ8j0bb+cxF1HpFC0yk1PDw8vW7duulbt255S+65cOHC9Mx/9OmJiQk7r7HmtTxqXRKSPH3VatWbih/7DhodHfWm4pfVcyKt9v/6hp128J7dekvbQzyDirbvWf93mvz/IZbhsnrsxDOIWAYledxCPIOyEM9W992671fZwZUDioxzkV+6Di5duhQ6tOv69et23KN/lBBIE2WUlNlS8wBloPyUVVLVl9OnT9vMnLbdvHmzOXbsmF3fbJ2radDIZbTmauYPpzcFFJN7vZvQnhvt0P8ZoS8AAEC7Hn74YWUCvLkg3ferWfGpU6cKXy2dc5FfKrvOFPq9udn0Wsl2VCoVUy6XW6TWErR161ab0dCgaUdP73t7e22NgDDUCOge+w7iKVW4dvc/l1oBxDOoCPtupxaAH7EMl9VjJ55BxDIoyeMW4hmUhXgmed8NZIWug8aaAG5ol6sRsGB9BJw9e1ZXsx00LerF8qmnnjJnzpwJ1ARwli9fbnp7e705Y1+bIVoetQ5AcugvAK3QFwAAAEB6pKZpgKr8f/e73zX/43/8j6bV+B31ZKleKtVBhXq2VIeALpkQtS5uqpqR1Omr1Wr194LGjX0HjY2NmYGBAW8uXlk9J9LJ/lXIk1m9vkcgnkF53Hfg/4V08HeTWIbL6rETzyBiGZTkcQvxDMpCPHXfrV7ygaJr1rS906YBqUkEqND+9ttve3P36I/G5cuX7bS/rb/rQ8D9YdE2rv1L1Lq4kQgIyuq+uTkN1+n+O0kGEM+gvO272ySAEMtwWT124hlELIOSPG4hnkFZiGeS991AVug6uBRTHwGpeX2gnuDr4vYP1WrVFuI1XL16tV5TQPNa59/GiVoHIFlqIgAoAaBBCYBZSSENAAAAWHCpSQQAyAf6Cyi2OGoBAAAAIFkkAgAkgmRAsVALAAAAIDtIBACInWsiQDKgWKgFAAAAkA0kAgAkgmRAcRwfPEAtAABA4ektaOqw7fbt23Z60aJFtnM3Nzz44IN2nfPcc8/Z7USvUfdvqzeh+fm3Fe3nySeftB2lN9O4jX5e+3Ea51EsJAIAJIZkQP655gAWCQAAAOrWrVtnbt26NfP1eK8j9GXLlpk333zTrlPBX/PujWiHDx82ExMT9W1Fb1UT/7ai7b/2ta+Zzz77zM6HCdtGP6/9aH9h8yiW1Lw+MK2UkYuiNxMg+yYnJ01/f783hzjpabG4wmJtHq4Z4jl/Sn19dpxUXIllvhDP/CCW+ZKFePbNfN+ksdiip+pPPfWUmZqaMo888ohddvr0aXPlyhUzNDRkp5csWWKX6+n7zp07zdq1a82OHTvMz372M/uGM+2jcVtHT/X927r5v/qrvzJ/8zd/Y06dOhV4S1rUNkoQ/OAHP7CFf/2uxnmkm8qmcb0+kERAFxSIpE4f77gNKvr7c8MkuW+Ja/+BnuRnrhviGZTJfbtkaUJ/C4lluKweO/EMIpZBSR63EM+gLMQz7L7b3V8kpdVrkVXgfuKJJ8y+fftswVtP8D/44APz/vvv20SASxA4vb295syZM3a6seCvn3377bft9IsvvmhfrS7NkgQqwG/fvj00EeCEbaNjfvrpp81rr71mawQ0ziPd4kwE0DQAQOJoIgAAAPJGhX0V7tUOX7Zs2WLnncamAd///vdtE4AbN26YxYsXzyrYq+DvthsfH7cFPj2lD9u2G9qP9qf9hs2jOEgEAJgXjckAV6UcAABgLnRvkeQQtwceeMCbinb27FkzPDxsTp486S0B4kciAMC8cV+q1AzIh6SrZAIAkGZq66+q/++9956dP3fu3KymAI1++9vfmjVr1tgO+u7cuWOr5Yue/De+UUDCtu2W9qP9ab9h8ygOEgEAgDmZzw4gAQBIG1Wrf+utt8yePXtsVf5PPvlkVtMA9dh///3323Ua1H/AK6+8YhMIoqYFov4FHn/88VnbqjaAmgs0btuM+gNQMkHjKG4/jft18ygOEgEA5hW1AgAAQF6og727d+/atv0fffSRHZQg8C93w6effmrXadDbA1SDwPH3EaBBzQMkbFtR53/an+sEUOPvfOc7dtpp3Ea0H+1P+w2bR3GQCAAw70gGAACAIlMHg6pBoLcCtNLOtq6Kv7/Q30g/r/24zg0b51EsJAIALIgXRt6wY5IB2UT/AAAAzJ2ewKv2QDuv7GtnW23zxhv37q2a0c+7Ggth8ygWEgEAFt60915gkgEAAABA4kgEAFgw9SYCPF3OHNdRYD2JAwDAAlCP+66DPQ3btm3z1oRTZ3qqCt9tL/z6ee2nVed8jTo9XiApPdPqjQJN6QKNUqW37FyYnJw0/f393hzm2/HBA3YcVy/0xDN5pb4+O076jQHEMl+IZ34Qy3zJQjz7Zr53GostKoRv377dnDp1qt42XgVrvXZPne+FUbv4oaEhc/r06TlXidfvXb9+vZ2+fPlyZLt8v7kcL+CnsumlS5e8udkeffRRbypapVIx5XJZD3MwVzPn0ZuKX7Va9abix76DRkdHvan4ZfWcyHwe++sbdtph5sK6N3SBeAbFvm9fnJI8bmIZLqvHTjyDiGVQksctxDMoC/EMu+++cOHC9COPPDJ969Ytb8lsWt/b22t/dt26dXY7jd388PBwfbls3brVLpuYmLDL3balUskuE237zW9+c/r999+3691yP/fzjeuijlfLtV50HBpEy7797W/Xpxs/T7PlUZ8B2aVYXrp0KXRo1/Xr1+2YpgEA0sX+jZvRojYOFg5NOQAAaaDO7h566KH6+/f379/vrblXdV9P/s+cOaMMgn1P/5tvvmnf+z9T6DYzBXlvy3A3b940+/btsz87ODho9u7da5erFsF7770XWQtA6xpf2ydRx6vlN27csLUGNNYbAPQZ9Hq/ZcuWNf08zZZLs88ACIkAAKkwq7+AmS8si2QAAACI4H///vj4uC1gqx2+CtK///3vzaZNm+yyt99+265v19KlS+vV/3fv3l0vpHer2fE+8MAD5uTJk+batWumVCrZbd3r/bZs2dL080R9zqQ+A/KBRACA1KDzwGygo0AAQBqdPXvWDA8P2wK1qCA8MTFRL3hrfbtUGF+8eLE3lwz/8arA/sc//tG888475tlnn7U1BH73u9+ZRYsWmbVr19rtm32eZsvn4zMgu0gEAEiVejJgw047Nj3UCgAAAEF6kv7ggw/a6vF+6nzPFYDVmZ+oUz5/VXxRlfupqSn7VF1Pyn/96197a4z57LPPbBMAOXr0qN223U4Bm4k6Xu37vvvuMx9++KH9XaohoCr/X/3qV21zhGafJ+pzJvEZkB8kAgCk1zRNBAAAQLgdO3bYNvGuzb0GPV1X9XsVntUfwJ49e+xyVYt/5ZVXzPLly21V+ieeeMK22VchfOXKlfaJvPoOcPSU/fDhw/ZnR0ZGzJEjR7w1rSmpoAJ/YzX8qOMVNQFwNQB0PKtWrbLLpNnnabZcuvkMyD8SAQBSh/4C0otmGwCANPG3ufdXixcV9O/evWuXq/M+FZr1RLxardp50fZar2X//M//bAvrjl7z59Y1PknXfFiHgBK1Lup49bv9x3n16lX7GZywzxO1XKI+A4qNRACAVCIZAAAAACSDRACA1KLzwPSho0AAQN5FPdHPijx8BiSLRACAbKBWAAAAABCLnmk1GkFT6lwjitrbIPsmJydNf3+/N4e0OT54wI5fGHnDlPr67HQt4tojnslp5/zHiVjmC/HMD2KZL1mIZ9/M909jsUXv2VfP+qdPn57VLr5drnd9da6nzgPVy768+OKLti2/1uu9/H5bt26d1a7f0ZsA1Mb/Zz/72ayn8GHL/ft1v0vbhR2Dn35ufHy8/vv1hoB3333XTodt3w13buLcZxj/72n2efS2heeff95Or1u3zrz//vuz4j2XcxcWA2l2DJ0uj0NYDFQ2vXTpkjc326OPPupNRatUKqZcLushG+Zq5jx6U/GrVqveVPzYd9Do6Kg3Fb+snhNJ07G/vmGnHax79QPuTYcgnkFx7Nue/5Bzn+RxE8twWT124hlELIOSPG4hnkFZiGfYffeFCxemH3nkkelbt255SzozU3CrDzMFfLtM+1y6dKkd+01MTEzPFELtuJGWlUolO/jXhy3XfletWmXnddw6fi1rdQya7u3trW8zPDxsj0f70KBpLYuLOy9Jc7+n8fO489J4LvT5Gz9np+dO82ExaHZO213u9hOXsBjoOrh06VLo0K7r16/bMU0DAGQCnQcCAIBm3Cv7NOipqWoQNL6+r5He1a9BT1zdk2K9uk+v7Wu0d+9e++q/xjb3ehr9gx/8wD611uv6nGbLz507Z771rW/Z/eip9kMPPWSXRR2D9qWaD88++6y3xJjf/va39ni0Dw2a1jJ95ieffNI89thj9jzoqbKeWmtaY2lnG3du/PTEWbUwRNu5bbXsueee6yoG/jcm3Llzx9y8edOu1+sQv/Od79TfnqBz5H+zg3R67prFoNk5bba82TEnGYM4kQgAkE0kA+YdHQUCANJMBbF9+/ap6oAZHBy0hXdRYVwFLP+gwqoKco2FyitXrtixCpSOCroq6Ln38/upEPjee+8FEgTNljdSQU9V1v0aj+HNN9+0hVV/1W/93AcffGALuho07fajKvJ/8Rd/YSYmJszIyIh55pln7LQK1a5g3mqbsHOjY3DrNdY50e9WIXrZsmV2m25joALxypUrbUFdhX8VuP/93//dLFq0qP4z+p3NtHPuGrkYNDunUedaGo9ZkopBnEgEAMgM3iIAAACa0ZP39evX2+ndu3fPKlCpYOof9CS3kQr8u3btMr/85S9tQd5RQVeFSf+ypDQeg+Y/+eSTQBJCn0mF7/vvv9985StfsQVkx38e/NN+7WzTSAXikydPmmvXrplSqWSXuePbsmWLne82Bnq6f+vWLVvYVgFbtN0f/vAH+zP6zCrch2n33DXT7JxGnWsJO+akYhAnEgEAMoUmAguD5AsAIO1UOF28eLE396VmT6P9XCHy/Pnzs57i6wmwv6AbNz3xXrNmjZ0OOwYlIT7++GNbCFWHeeqYzlUdV3V4FY7v3r1r/uRP/qS+n6SooPrHP/7RvPPOO7aqvZIjv/vd7+zTevcEvpsYOCrEq/q9e+ruquWLnpr7n8Y7nZ47P38Mmp3TVue68ZizgEQAgMwhGQAAABqpqrWq48vRo0ftU1wVCls9jW6WBJCwpgLdUELhV7/6lX1KrkHTWtbsGPS02R3z8PBw/a0FKlj725u7/SRJx3XfffeZDz/80J5b1RBQ+/uvfvWr9YL6XGPg2siLq36vQr//fIlqJDQWwjs9d81i0OycNlve7JizgkQAgOyb+QNvkQwAAKCwVL368OHD9mmz2lwfOXLEWxNNP/P555/bdt76WT3hVuFSVLVdT7hdQVdUGNTTbI07pTbkakuu3+VvVx51DGFUsBZtq5959dVX6+3Tk6QCsKsBoBoC6phPy5y5xkCFdtHP6Qm+Egj6jPpM+mzuvIi29ceg03PXLAbNzmmz5c2OOSt6ppUiwZwo6EmdvlqtVm97Ezf2HTQ2NmYGBga8uXhl9ZxI2o/dVVd3NQRmLko7GhsdJZ4Nut63d27rSRefJI+bazNcVo+deAYRy6Akj1uIZ1AW4tnqvlsFwu3bt5tTp04FnupjfhCD5Ok6uHTpkjc3W1SHiH6VSsWUy2VqBADILjoPBAAAADpHIgBApoX1FzDw8MN2jHiQaAEApJ2eQKvNOU+iFw4xyBaaBrSg6hdRqtWqN4Usm5ycNP39/d4csuj44AE7du+6r3FtxkbndqHOK9dmvhDP/CCW+ZKFePb19SXWJBfIijibBpAI6AJ9BATRNi4oq+dEsnTss/oLcAm8BK7PrMazm33r3LpEQNg5TfK4uTbDZfXYiWcQsQxK8riFeAZlpY8AAIZEQBqQCAjiCzAoq+dEsnbs9WRARKG1W1mNZ1f7bpFYSfK4uTbDZfXYiWcQsQxK8riFeAZl/dr86KOPvCXx+bd/+zfzn/7Tf/Lm4pXkvq9evWpWr17tzcVLx/3/Hvon8+1//f/uLfjVr+6NY5LVc57kvvVGA72usB10FgigsOpvDwAAAADQFIkAAEBTdBQIAACQPyQCAOSKagUMbdh5b4b2hAAAAEBAKhMBX3zxhXnwwQftOIyWq+dQtdHX2L9d1DoAAAAAAApPnQWmzdatW6dLpdL0xMSEt2Q2rX/xxRfttMaad6LWxS3J01etVr2p+LHvoNHRUW8qflk9J5LVY399w05doPeGmGX1nMx5322cxySPm2szXFaPnXgGEcugJI9biGcQ12YQsQxyx53UfRbxDEqivHn9+nU7Tl2NgBMnTpgbN26YpUuXektm0xN+rd+9e7ed37JlixkfH7fLo9YBADpD/wAAAAD5lKpEgArshw8fNj/5yU+8JUHXrl0zU1NT3pwxy5cvt2Mtj1oHoDg2H9xJPwEAAABAE6lKBBw9etQ8/vjjZsWKFd6ScKotsHjxYm9utqh1AAAAAAAUXY/aB3jT82rbtm3m3XfftdNbt241+/btM0NDQ+b06dPmzp07Zvv27ebUqVOBpMDFixfNrl27zPnz5+061SLYvHmzOXbsmF3fbN3GjRvt+kbqVLAbo6Oj3hSANDn/8i/Max/+wk6PcZ3OCecQAAA04v5g/jz88MPqJMCbi0elUjHlcjmB3gfmSB37zRzXrKG3t3f6woUL3hb3qAPBdevW1TsS1PpVq1bZ+ah1SdAxJoXOMoKS3Ded5ITLcjzpyGa2Oe27zfOXdCyTktVYSlaPnXgGEcugJI9biGcQ12YQsQxyx617rCTus4hnUBLlzdR1Fnjo0CF9SjvMFNzNTIHe/OY3vwk8ydeT/mXLltlmBHLu3DmzZs0auzxqHYBiee1//wP9BHSBjgIBAEAY3WMh+1L31oAwquK/evVq2yxAjhw5YkZGRmy1fo0170StAwAAAACg6FKZCNAT/E8//bT+JF/jq1ev1msHaL5ardraAxr7n/hHrQMAAAAAoOgyUSMAAAAAAADEg0QAgNyin4C5c70BG9tPDQAAwGzcY2UbiQAAwCx0FAgAAJBvJAIAAAAAAG3jzQHZRyIAQK7xRQUAAADMRiIAAAAAAIAC6ZnWe/YQqqeNji/0ikJk3+TkpOnv7/fmkHWN8Tw+eKDe+V2NazZS2s4V12a+EM/8IJb5QjzzYz5jqXsG4R4rOX19ffa1+HGqVCqmXC6rQ2jM1cx59KbiV61Wvan4se+g0dFRbyp+WT0nkpd4vr5hpy7Ye0OXsnpO2t33XM7VfMYyTlmNpWT12IlnELEMSvK4hXgGcW0GEcugxuPWPQP3WMnuO4ny5vXr1+2YpgEAco9+AgAAAOLF/VW2kQgAAAAAAKBASAQAKIShDTvvTbTR9wcAAACQZyQCAADW0J//Zb3DH9vaDwAAoAUetmQTiQAAhUA7NgAAAOAeEgEAAAAAABQIiQAAhUHVNQAAgPhQ4zK7SAQAAAAAAFAgPdMzvGmE6Gnx5LBarXpTyLLJyUnT39/vzSHrouJZ6uuz4xrX7izHBw/UOwpM07nh2swX4pkfxDJfiGd+LEQsdQ8habyPyLq+mfvWuIvrlUrFlMtlEgHdUJIgqdNXq9VMqVTy5uLFvoPGxsbMwMCANxevrJ4TyWU8XXJvjtduVs9Jq31388aABYtll7IaS8nqsRPPIGIZlORxC/EM4toMIpZBzY5b9xDS7ZuHiGdQEuVNlwigaQCAQqGfAAAAABQdiQAAAAAAwJzQYWA2kQgAUCh8WQEAAKDoSAQAQMF10z8AAACA0PwyW0gEAAAAAABQICQCABQOGWsAAAAUGYkAAIVDPwEAAAAoMhIBAFBg9A8AAAC65R6yUOsyO0gEAAAAAABQID3TM7xphOhpkc2qVqveFLJscnLS9Pf3e3PIunbieXzwQP1JeK3A13HazwPXZr4Qz/wglvlCPPNjIWOpewrh/io+fX19Ju7ieqVSMeVymURAN5QkSOr01Wo1UyqVvLl4se+gsbExMzAw4M3FK6vnRHIfT5fo6+A6zuo5abbvOJoGpCKWc5DVWEpWj514BhHLoCSPW4hnENdmELEManXcuqeQud5XEM+gJMqbLhFA0wAAAAAAAAqERAAAFBQdBQIAgLjQYWC2kAgAUFyu8MsXFQAAAAqERAAAAAAAAAVCIgAAAAAAgAIhEQAAAAAAQIGQCABQbAXtJ4COAgEAQGLohyn1SAQAAAAAALpWf3PAn/+lHSO9SAQAAAAAAFAgPdMzvGmE6GlRnaVarXpTyLLJyUnT39/vzSHrOo1nqa/PjmsFup6PDx6oNw1I8+fm2swX4pkfxDJfiGd+pCGWuseQLNxnpF3fzD1q3MX1SqViyuUyiYBuKEmQ1Omr1WqmVCp5c/Fi30FjY2NmYGDAm4tXVs+JFCqeLunX4prO6jnx79tV14urj4DUxbJNWY2lZPXYiWcQsQxK8riFeAZxbQYRy6B2j3uu9xnEMyiJ8qZLBNA0AAAKiI4CAQBAotw9Bh0GphKJAAAAAABALOgwMBtIBAAAAAAAUCAkAgDAh+w1AAAA8o5EAACI146t3nY+p0h0AAAAIFWJgC+++MK+IkG9Iy5atMhcvHjRWzObfzuNNe9ErQMA0FEgAACYJ3QYmFqpSgTs3bvXDA4Ozvx/mTY///nPzUsvvWRu377trf2SfzuNNe9ErQMAAAAAoOhSkwjQ0//x8XGze/duO79jxw7z6aefmiVLlth5R0/4b9y4Ud9uy5Yt9ue0PGodALSL6vMAAABzx5sD0i81iQAV4Ht7e81//s//ObJpwLVr18zU1JQ3Z8zy5cvtWMuj1gFAS171tbz3EwAAAIBi65lWHfoUOHHihHn++efN8PCwrQ2g+cOHD5v3339/Vq0AJQeGhobM6dOn7XI97d+8ebM5duyYXd9s3caNG+36Rko6dGN0dNSbApAHAw8/bMdjOby2z798L8HhEh15/IwAACAduO/o3sMz96VxF9crlYopl8t6ALYwtm7dqk9kB00PDw9Pl0ql6YmJCbte41WrVk1fuHDBzjua1/Kw7aLWJUHHnpRqtepNxY99B42OjnpT8cvqOZFCxvNevQBvJiir50T7fn3Dzpafby5SG8sWshpLyeqxE88gYhmU5HEL8Qzi2gwilkGdHrfuO+y9h7Rx/0E8g5Iob16/ft2O59w0QE/b9dR+//799UHz7bbHP3v2rD6VHTS9bNky2zSgFVX392/nqv1redQ6AOgEbdoAAACQVx0nAtSLvwr927dvNydPnvSW3qN5Ldf6sN7+o6xdu9YW4o8ePWrnNda8lvutWLHCJg3cdufOnTNr1qyxy6PWAUBbbPKVfgIAAAC6QYeB6dZxIuDpp5+241OnTtkn+YcOHaoPmtdycdu1S2369bMjIyO23b7Gmndt/VevXl3vPPDIkSOzttO8E7UOAAAAAICi6zgR8Nprr9lCf7On7Fqu9dquU/rZarVqmwto7H6HxlevXq13+NdsO4laBwBFdXzwgDcFAACAous4EeAK4636CGjWSz8AZEXeqrLVmzt4zR8AAADmhbv36PKNbYhPavoIAIDU8L6s6CcAAAAAeZSaPgIAAAAAAEDyUtVHAACkTR6aB9BbLwAAWAi8OSC95txHQCv0EQAAAAAAQPr0TKt7/Q64zgCj5Kmnfr2GMIreTIDsm5ycNP39/d4csi6ueJb6+uy4lvHrXG8McP0dZO2zcG3mC/HMD2KZL8QzP9IYS/fmohdG3sjNvdV86Zs5Xx0W11uqVCqmXC53ngjQ+/ynpqZMb2+vtyRIr/orAiUJ4g6MU6vVTKlU8ubixb6DxsbGzMDAgDcXr6yeEyl8PF0i0HedZ/GcqDpekm8MyEQsQ2T1/7dk9diJZxCxDEryuIV4BnFtBhHLoLket2sWYJsJhNxbOcQzKInypksEdNw04NixY/bDfvvb37bTYQMA5Ant2gAAAJAnc+ojYHh42Pz0pz+102EDACAdSGIAAACgUceJANmxY4fZsGGDNwcAAAAAQBBvDkinOSUC5OzZs94UAOSU1yar3r4+o5LsHwAAAKBt7l6kRYfsSN6cEwHNXLx40Q63b9/2lgBA9pHFBgAAQF7EngjYtWuX+fjjj80Pf/hDbwkAAAAAAEiL2BMB58+fN6+//rr5u7/7O28JAGAhUIsBAAAAYWJPBKxYscKOlyxZYscAkGk56ScAAABgodBhYPp0nAj44osvWg4AkEdZ/PJyCYxatWrHAAAAC4oOA1OhZ3qGN92W1atXm6mpKdPb2+stCbp69ao3lX09Lf6DVrm5zoXJyUnT39/vzSHr4o5nqa/Pjoc27DQvjLxhp7Pg+OCBzCcCuDbzhXjmB7HMF+KZH2mOpe5LRPdS7t6KBxXR+mbOU4fF9ZYqlYopl8udJwL0RoBNmzaZH/3oR+axxx7zls62ceNGbyrflCSIOzBOrVYzpVLJm4sX+w4aGxszAwMD3ly8snpOhHh6vISgSwRk4Zy42gv+RACxnC2r/78lq8dOPIOIZVCSxy3EM4hrM4hYBnV73PV7EzUTcA9bfWUp4hmURHnTJQI6bhqgQv7w8LD56U9/aqfDBgDIFe8PMP0EAAAAIA/m1Fngjh07zIYNG7w5ACgOV60NAAAAyKo5vzXg7Nmz3hQAII3qNRgSasIEAADQrllvDnD3Ji36Y0NyOk4E7N+/39y+fdubC6f12g4AAAAAAKTLnGoEPP300+bEiRP2VYEq9LtB81qu9QCQKxnqJ4B39AIAACBKx4mAQ4cOmddee82cPHnSbN++3Rb6n3jiCTvWvJZrvbYDgDyioA0AAIAsm1ONAL0ZQH0EnDp1yhb69+3bZ8ea13LeHAAAAAAAQDrNKRHg+ghYsWKFLfSvX7/ezgMA0oGOAgEAQNrQYWB6dJwIUD8AagrgXLx40SYChoaGbNMArQeAXMpQPwEAAABAMz3TM7zptvT19ZmDBw+aHTt22PlFixaZn//85+bJJ580d+7csUmBarVq1+VBT4sMVZ4+a5FNTk6a/v5+bw5Zl2Q8SzN/A2Vow07zwsgbdjpNjg8esGOXrKhl/G8U12a+EM/8IJb5QjzzIwuxdPcquo9y91VZv19JisreHRbXW6pUKqZcLneeCFDB2P8jrebzLMnPWqvVTKlU8ubixb6DxsbGzMDAgDcXr6yeEyGeIbzkoBIBrnpbXOI4J64jw8amAcQyKKvnRIhnUFbPCbEMSvK4hXgGcW0GEcuguI67fq+i+yjvvkr3K8QzKInypksEzKmPAEfNAgAAAAAAQHZ0nAjo7e21CQB1GPjUU0+ZrVu3emvu9R8AAEWR1tcI0lEgAADIBHev4moGYN50nAg4c+aM2bVrl3n66adt/wB6XaCj/gFefPFFbw4A8se1YUtjh4FpTUwAAAA4s94cgAXTcSJArws8f/68ee2118zly5e9pfeoE8FDhw55cwAAAAAAIG06TgTs37/fLF682CYEVqxY4S29x71JQM0GtB0AAAAAAEiXOXUWqGYBJ06csH0CqNDvBs1rudYDQBFQrQ0AAABZ03EiQFX/1Szg5MmTZvv27bbQ/8QTT9ix5rVc62kiACC3vI5t0thPAB0FAgCATPHuWUp9fXaM+TGnGgFqFqBOAk+dOmUL/fv27bNjzWu51gMA5g81EwAAQFbQYeDCm1MiQE0A9ApB9RGwdu1au+zGjRvm2rVrdhoAAAAAAKRTz/QMb7ot6gPgxz/+sVm6dKlZtmyZGR8fNzdv3jRf//rX7fSrr75a7zQwD3pavNOy6r1KDNk2OTlp+vv7vTlk3XzE01VfG9qw045fGHnDjhfK8cEDduyaBrjXHGYd12a+EM/8IJb5QjzzI0uxdPcuuody91V5uX+JS9/MeemwuN5SpVIx5XJZTTI6M/Oz0xcuXJi+deuWHWt+YmLCrtNY80WR5GetVqveVPzYd9Do6Kg3Fb+snhMhnkGzjlt/A2aG1zfs9BZ0p5tzYo/BO54wxDIoq+dEiGdQVs8JsQxK8riFeAZxbQYRy6C4j1v3LvV7qIh7mDhkNZ5JlDevX79ux3PuI2DJkiX1vgDcawQbXycIAAAAAEAkW+ad0aI2NuIzp0QAACA96GgHAAAAnZhzZ4FuCJsHgKKhMA4AANA+3hywsDpOBPT29prNmzfXh7B5ACgErxpb/d39AAAAQAZ0nAg4c+aMOXbsWH0Im58rvZJw0aJFtqd+9ZDYrIaBlmt92HZR6wAgr+rJCNfGDgAAAJn2uvd2qiR0nAi4ceNGy2EuVGDftWuXTSRMz9zIDg4Omu3bt5vbt297W3xp7969dr3bTvNO1DoAAAAAQPrUXx1Ih4FW0k0mOk4EHD582A4//vGPzfPPP1+f16B5LZ+La9eumaVLl5q1a9fa+d27d9vxnTt37NhRwkDJBrd+y5YtZnx83C6PWgcASVuINm60qwMAAECnOk4EvP/++3aQ4eHh+rwGzc/V8uXLzc2bN82VK1fs/NGjR+148eLFduwoYTA1NeXN3fs50fKodQAAAACA9KDDwIXTM6069HOgNvhhP9pseTv05H79+vWmVquZdevW2eTCkiVLvLX3qB+BoaEhc/r0abtOP6NOCtU/gTRbt3HjRru+kY63G6Ojo94UgKIaePhhOx7asNNsPphcW64w51++1zeA6yNgjL9JAAAgQ9y9jO6h3D0V9zO+ezwvWRKXSqViyuWy+pWam1KpNP3iiy9OT0xMTN+6dcuONa/l7di6dauyBXbQ9IULF6aXLl1qxzI8PGz3pf36af2qVavqyzXWvJZHrUuCjj0p1WrVm4of+w4aHR31puKX1XMixDMo9LjvddE3/fqGnd6CuZnLObG/0/v9UYhlUFbPiRDPoKyeE2IZlORxC/EM4toMIpZBSR237mU02P23cU8zF1mLpzsnSZQ3r1+/bscdNw1wLl++bD744AP7xP3pp5+2Y81reTvOnj2rT2UHTatt/0zBv95HgGoG6FWEjdX6Vd3f/4pCt17Lo9YBwHyYz6ptVKMDAAC5ojSA0GFg4uacCFixYoWtuq9q96+99poda17L52LZsmW2SYDrI0AJBbX3byzEa//a1vUhcO7cObNmzRq7PGodAAAAAADoIhEgaoevtvduaGzP3wn9/N/93d+ZTZs22Xb7e/bsMf/4j/9oC/Fq67969WrbP4AcOXLEjIyM2O001rwTtQ4AEuFlr+vv8gcAAADmwNX4jLtvgEZdJQLitmPHjnpzgbt379Y7+FMy4OrVq7Pmq9Wq3U5j/xP/qHUAAAAAgPRwBd7jgwfsGPMjVYkAAMiD+Wy7X6+F4NVKAAAAAFohEQAAGURHgQAAIJfcw40Cdhg4X80ChEQAAMTB+9KinwAAAACkHYkAAEgAT+wBAACQViQCAAAAAABYQPPZLEB6ptW9PprSawij6M0EyL7JyUnT39/vzSHrFiqepb4+Ox7asNOOXxh5w46ToJ51XTOEWo7/DnFt5gvxzA9imS/EMz+yHEv31gB3/+Tuq/J8n+PX+Pmlb+YcxF1cr1QqplwukwjohpIESZ2+Wq1mSqWSNxcv9h00NjZmBgYGvLl4ZfWcCPEManncXvJQyYBOM7rtnpN6xriDNwYQy6CsnhMhnkFZPSfEMijJ4xbiGcS1GUQsg5I8bgk8EXcPZGMob2UhnmE1ApIob7pEAE0DACAh9BMAAACAVua7WYCQCAAAAAAAIGWSrLpPIgAAAAAAgDRp0Vddt0gEAECcvHZc9fb7MZtL/wAAAABp5zrJqzetdPc4CReIF9pCNAsQEgEAkCD6CQAAAEBHvORHkikQEgEAAAAAABQIiQAAAAAAAOZZaLOAGF+bGIVEAAAAAAAABUIiAADi1tBhYFz9BNSzxnQUCAAAiqAgHQbWzVNtAOmZnuFNI0RPi/901WrVm0KWTU5Omv7+fm8OWZeGeJb6+ux4aMNOO3Y94Xbj+OABO3aJgFoB/v5wbeYL8cwPYpkvxDM/8hBLd7/j7p3cPVXe7nsaP6c0fta+mfm4i+uVSsWUy2USAd1QkiCp01er1UypVPLm4sW+g8bGxszAwIA3F6+snhMhnkFtH7eXRHSJgHZeCdNq393UCCCWQVk9J0I8g7J6TohlUJLHLcQziGsziFgGJXnc4vYfaDcfw1PyNMaznc+ZRHnTJQJoGgAAAAAAQIGQCACAJHjZ27j7CQAAAEC2JVHroVMkAgAgA7ppFgAAAJBZ7p7HFZYRCxIBAAAAAIBUcE/JC1ObcgFqAwiJAAAAAAAACoREAAAkhX4CAAAA4DOrf4AFqg0gJAIAAAAAACgQEgEAkHJ0FAgAAAotjx0GLmBtACERAAAAAABAwmY1C1hgPdMzvGmE6GmRdapWq94UsmxyctL09/d7c8i6tMWz1Ndnx0MbdtrxCyNv2HG7jg8esGNXI6BWoL87XJv5Qjzzg1jmC/HMjzzF0t3/uPsmdz+V5fugTu/p+mY+c9zF9UqlYsrlMomAbihJkNTpq9VqplQqeXPxYt9BY2NjZmBgwJuLV1bPiRDPoDkdt5dQdImAZlngZvuOo2kAsQzK6jkR4hmU1XNCLIOSPG4hnkFcm0HEMijJ45bG/QeenndRlT4t8ez0ni6J8qZLBNA0AABSLE1VyAAAADA3cTzYiROJAACYJ64w774IOtJFFhwAACDz3D2QuydCV0gEAEDS+OICAAAovLTUBhASAQAAAACAVOmqJmXKpPEzkAgAAAAAACBBaaoNICQCAGAedZLdrncqQ0eBAAAAiBGJAABIOzoKBAAAyGS/S3qwk7baAEIiAADmQwa/uAAAAJBPJAIAAAAAAEhAGmsDSM/0DG8aIXpaPL2rVqveFLJscnLS9Pf3e3PIurTGs9TXZ8e1mb8bxwcP2OkXRt6w4zBuG/cFop8rGq7NfCGe+UEs84V45kceY9l4z+S/n0o7HXs393F9M5817uJ6pVIx5XKZREA3lCRI6vTVajVTKpW8uXix76CxsTEzMDDgzcUrq+dEiGdQV8fta+sf1hGgf9+z1vt+bq6IZVBWz4kQz6CsnhNiGZTkcQvxDOLaDCKWQUketzTbf+CeaQ73RQsWzy7v4ZIob7pEAE0DAGC+uD/k7kuhHTEkAQAAAHJjLvdTCCARAAAAAABAnFL+MIdEAAAsAFe9zVV3AwAAAOYLiQAASJmw/gMAAACKKJMPT7zaAEMbdtpxGpEIAID5RLs2AACAQkjzQ50FSwRcvHjRrF692nzxxRfeEmOn9YoE9Y6osX+dX9R27e4DAFLPJQvoKBAAAOBLaX6w4h1TmmsDyIIkAk6cOGE2bdpkpqamvCX37N271wwODs7EddqONR8mart29wEAC41+AgAAALAQ5j0RsG3bNrNnzx7zox/9yPT29npL7z3Jv3Hjhtm9e7ed37JlixkfHw880Y/art19AAAAAAAQK19tgLT39TTviYCzZ8+au3fvmscee8xbcs+1a9dm1RBYvny5HWu5X9R27e4DABZURHU2OgoEAABA0nqmVYd+AaiPgF27dpnz58+bFStW2PmhoSFz+vRps2TJEvsUf/PmzebYsWNm48aN3k/d+7lm20k7+/BTXwLdGB0d9aYAoH0DDz9sx6792OaD98bnX/6FHWvebTPG3xkAAFBw/nskSdt9UrN7u248PLPPuIvrlUrFlMtlPZhKztatW3XUdtC034ULF6ZXrVo1PTExETqvsea13C9qu3b3ERd9rqRUq1VvKn7sO2h0dNSbil9Wz4kQz6DYjvtevQA7+fqGnXbQvt20f30ciGVQVs+JEM+grJ4TYhmU5HEL8Qzi2gwilkFJHre02n/9HsmvzfuleYmndyyhxzlHSZQ3r1+/bseJNg1QM4CZ32EHTUdRNX5/nwGuOr+r3u9EbdfuPgAAAAAAiEXDmwKy0MRzwV4f2EjNA5YtW2aOHj1q58+dO2fWrFljl/tFbdfuPgBgwdkk74wumycBAAAAnUpNIkCOHDliRkZGbLt9jTUvauu/evVq2z+ANNtOotYBQJodHzxgx3QUCAAAkA2lvr57E+4hT0YsWCJAnfddvXp11tN6TVerVduUQGO3TmNt6zr8a7adRK0DgDSi4A8AABDN3S+5NyylTdbe/JSqGgEAgBmuuUDGMssAAADzyt0rLVRTywzfs5EIAAAAAACgQEgEAMBC8WWxVY3shZE3aCYAAACQBV5tgFq1mrlmAUIiAAAAAACAAiERAABpQv8AAAAA6ZaD+7WeaXWvj6b0GsIoejMBsm9yctL09/d7c8i6LMXTvXJG1cqkcb7ouDbzhXjmB7HMF+KZH0WIpXvdsppUOvN9/+T/fWHHE5e+md8Td3G9UqmYcrlMIqAbShIkdfpqtZoplUreXLzYd9DY2JgZGBjw5uKV1XMixDMokeP2tTFL6l20xDIoq+dEiGdQVs8JsQxK8riFeAZxbQYRy6Akj1va3X9oe/wWT+hjPfaG35Vk/wBJlDddIoCmAQAAAAAAFAiJAAAAAAAAWpnH2gBJIxEAACmRVLMAAAAAwI9EAAAsNAr+AAAAc+fupdwT+yS06Icga0gEAAAAAAAywVXDd9XyF4r7/Um8LWA+kAgAAAAAAKCZnNUGEBIBAAAAAAAUCIkAAEiD6WlTq1bpLwAAACBNQmoDZPltAQ6JAAAAAABAtrmCepIdBuZIz/QMbxohelr8R6rqCR4yb3Jy0vT393tzyDrimR/EMl+IZ34Qy3whnvlRpFgeHzxgx/7O+tyrmG0tyxg021/Y705C38zvj7u4XqlUTLlcJhHQDSUJkjp9tVrNlEolby5e7DtobGzMDAwMeHPxyuo5EeIZlNVzQiyDsnpOhHgGZfWcEMugJI9biGcQ12YQsQxK8ril0/2HVs9v0qnfnI+9jWYBSZ6XJMqbLhFA0wAAAAAAAPyaJBXygkQAAAAAAAAFQiIAAAAAAJB97um9e5o/V01qA+ThbQEOiQAAAAAAAAqERAAAAAAAIFPcU3n3lD42Oe8bwCERAAAAAABAhDw1CxASAQAAAAAAFKQ2gJAIAAAAAADkQ1wdBuZcz/QMbxohelr8B6pWq94UsmxyctL09/d7c8g64pkfxDJfiGd+EMt8IZ75UbRYHh88YMcvjLxhx06pr8+Oax2U1Vr9TLPflaS+mWOKu7heqVRMuVwmEdANJQmSOn21Ws2USiVvLl7sO2hsbMwMDAx4c/HK6jkR4hmU1XNCLIOyek6EeAZl9ZwQy6Akj1uIZxDXZhCxDEryuGWu+w9tu99Qxb+tfUc0C4jqHyDJ85JEedMlAmgaAAAAAAAorogkQF6RCAAAAAAAoEBIBAAAAAAA8sM92XdP+qO0qA2Qt9cGOiQCAAAAAAAoEBIBAAAAAIDiKWDfAA6JAAAAAABAJrkq+64Kf5zy2ixASAQAAAAAAIqlwLUBhEQAAAAAACBfOukwsIBIBAAAAAAAiqON2gB5bhYgPdMzvGmE6GmRQapWq94UsmxyctL09/d7c8g64pkfxDJfiGd+EMt8IZ75UdRYHh88YMcvjLxhx06pr8+Oaw1ltmbL/Zrtcz71zRxn3MX1SqViyuUyiYBuKEmQ1Omr1WqmVCp5c/Fi30FjY2NmYGDAm4tXVs+JEM+grJ4TYhmU1XMixDMoq+eEWAYledxCPIO4NoOIZVCSxy3d7j/0Cb73UFcF/vq+26gNIO3WCEjyvCRR3nSJAJoGAAAAAADyxytEuxoA7cp7swAhEQAAAAAAyL82awMUAYkAAAAAAAAKhEQAAAAAACDfYu4bIOtIBAAAAAAAUCALlgi4ePGiWb16tfniiy+8JcacOHHC9oyoQa9K8K/z03KtD9suah0AAAAAIH/cE3z3RL/OXwOAvgHqFiQRoAL/pk2bzNTUlLfkXmLghz/8oblw4cJMfKbNwYMHzfbt283t27e9Lb60d+9eMzg4aLfTWPNO1DoAAAAAAMIUpVmAzHsiYNu2bWbPnj3mRz/6kent7fWWGnPjxg3zjW98w2zcuNHOr1+/3o7v3Lljx46e8Gvb3bt32/ktW7aY8fFxuzxqHQAAAACgeGrVKrUBGsx7IuDs2bPm7t275rHHHvOW3LNjxw67zrl8+bIdL1682I6da9euzapJsHz5cjvW8qh1AAAAAADAmJ5p1aFfAGoKsGvXLnP+/HmzYsUKb+k9eoKvGgFqHqAEgZ9+bmhoyJw+fdosWbLEbrt582Zz7Ngxu77ZOlfToJH6EujG6OioNwUAAAAAWCjnX/6FHW8+uNOOO9HNzybl4Ycftk3e41SpVEy5XFYNieRs3bpVR20HTftduHBhetWqVdMTExPeknu0vLe3d3p4eNhbMlvjz2mseS2PWpcEfa6kVKtVbyp+7DtodHTUm4pfVs+JEM+grJ4TYhmU1XMixDMoq+eEWAYledxCPIO4NoOIZVCSxy1x7f/1DTvt4NfOvsN+rh1JnpckypvXr1+340SbBqiq/8zvsIO/2n8z6kTwqaeeMmfOnAnUBHBU3d/ft4Cr9q/lUesAAAAAAMACvj6wkXtrgJIAzarxi5oRLFu2zBw9etTOnzt3zqxZs8Yuj1oHAAAAAECjIr0twElNIkCF9ps3b9rXCqrdvoa+vj7bzl/D6tWrbbJAjhw5YkZGRuw2GmveiVoHAAAAAEDRLVgiQE/9r169Wn9af+jQoXozAjdUq9X6k35t62oKaF7r/Ns4UesAAAAAACi61NQIAAAAAAAAySMRAAAAAADIBdfO37X7b6WI/QMIiQAAAAAAAAqERAAAAAAAAAVCIgAAAAAAUDhFbRYgPdPqXh9N6TWEUfRmAmTf5OSk6e/v9+aQdcQzP4hlvhDP/CCW+UI884NY3nN88IAdvzDyhh030+52C0Wv04+7uF6pVEy5XCYR0A0lCZI6fbVazZRKJW8uXuw7aGxszAwMDHhz8crqORHiGZTVc0Isg7J6ToR4BmX1nBDLoCSPW4hnENdmELEMSvK4Jc79Nz7pb7bvOGoEJHlekihvukQATQMAAAAAALnRzpsDitwsQEgEAAAAAABQICQCAAAAAAAoEBIBAAAAAIDCKHqzACERAAAAAABAgZAIAAAAAADkSjsdBhYZiQAAAAAAQCHQLOAeEgEAAAAAABQIiQAAAAAAAAqkZ3qGN40QPT093lS4arXqTSHLJicnTX9/vzeHrCOe+UEs84V45gexzBfimR/Ecrbjgwfs+IWRN+y4cT7t+vr6TNzF9UqlYsrlMomAbihJkNTpq9VqplQqeXPxYt9BY2NjZmBgwJuLV1bPiRDPoKyeE2IZlNVzIsQzKKvnhFgGJXncQjyDuDaDiGVQksctSezf9Qeggr/2nUT/AEmelyTKmy4RQNMAAAAAAEDuuAK/qwmAL5EIAAAAAADkGm8LmI1EAAAAAAAABUIiAAAAAACAAiERAAAAAADIPZoFfIlEAAAAAAAglyj8hyMRAAAAAABAgZAIAAAAAADk1gsjb1AzoAGJAAAAAAAACqRneoY3jRA9PT3eVLhqtepNIcsmJydNf3+/N4esI575QSzzhXjmB7HMF+KZH8QyX/r6+kzcxfVKpWLK5TKJgG4oSZDU6avVaqZUKnlz8WLfQWNjY2ZgYMCbi1dWz4kQz6CsnhNiGZTVcyLEMyir54RYBiV53EI8g7g2g4hlUJLHLcQzKInypksE0DQAAAAAAIACIREAAAAAAECBkAgAAAAAAKBASAQAAAAAAFAgJAIAAAAAACgQEgEAAAAAABQIiQAAAAAAAAqERAAAAAAAAAVCIgAAAAAAgALpmZ7hTSNET0+PNxWuWq16U8iyyclJ09/f780h64hnfhDLfCGe+UEs84V45gexzJe+vj4Td3G9UqmYcrlMIqAbShIkdfpqtZoplUreXLzYd9DY2JgZGBjw5uKV1XMixDMoq+eEWAZl9ZwI8QzK6jkhlkFJHrcQzyCuzSBiGZTkcQvxDEqivOkSATQNAAAAAACgQEgEAAAAAABQICQCAAAAAAAoEBIBAAAAAAAUyIIlAi5evGhWr15tvvjiC2/Jl7TswQcfDF0nWq4eFNV5gsb+7aLWAQAAAABQdAuSCDhx4oTZtGmTmZqa8pbMtnfvXnPz5k1vLkjrBwcHbQ+KGmveiVoHAAAAAEDRzXsiYNu2bWbPnj3mRz/6kent7fWWfklJghs3bpilS5d6S2bTE36t3717t53fsmWLGR8ft8uj1gEAAAAAgAVIBJw9e9bcvXvXPPbYY96SL6nAfvjwYfOTn/zEWxJ07dq1WTUJli9fbsdaHrUOAAAAAACkrLPAo0ePmscff9ysWLHCWxJOtQUWL17szc0WtQ4AAAAAgMKbTtDWrVun9Ss0aNrvwoUL06tWrZqemJiozz/yyCPTt27dssvWrVtXX+fX+HMaa17Lo9Y1446PgYGBgYGBgYGBgYGBgSFNQ9yuX79ux4nWCFAzgJnfYQdNRzl37pz5+OOPzf33329WrlxpPvvsM/Onf/qn9u0Cfqru7+9bwFX71/Kodc2445vL0O3PRw3sOziw7+CQ5L41JLl/9h0c2HdwyOq+NSS5f/YdHNh3cGDf4UOS+2ffwYF9Bwf2HT4kuf8s7zspqWkacOjQofoHnpiYMOvWrTO/+c1vzMaNG70t7lGzgWXLltlmBKIEwpo1a+zyqHUAAAAAACBlfQQ0o04EV69eXa8dcOTIETMyMmJ6enrsWPNO1LosSTIDxL7nV5bPCfEMyuo5IZZBSR838ZxfnO8gYhmOeM4vzncQsQxHPOdXz8yBZ/PIU0DJBk5fPhDLfCGe+UEs84V45gexzBfimR/EMl+SiGelUjHlcjkbNQIAAAAAAEA8SAR0gWxbfhDLfCGeQDpxbQLpxLUJpFOS1yaJgAYnTpywVTA09PX12f4Jwmi51odtF7UO86fdWEZtt3///vo6DQ8++KC5ffu2txbzqd14RsWMazMd2omli6O4bRctWlTvK4ZrMz38sYi6rqKuv6h1mD/txlLXsIRtx7WZHu3GMypmXJvp0E4s3TbituV7M90UR8Wh2XUVdf1FrWvbNOouXLgwvXTpUjuW4eHh6XXr1k3funXLzvtt3bp1+sUXX7TTGmveiVqH+dFuLFttp9hpGRZWu/GUqJhxbS68TmLpp1j54xUVZ8wfxaBUKk1PTEzY+ajrSsubXX9R6zA/2o1lq2tYP8O1ufA6vTabxUzruDYXViex9NM2/u00zbWZLoqJP7aNtL7Z9Re1rpXr16/bMTUCfG7cuGG+8Y1v1F9ZuH79eju+c+eOHTvKuGjb3bt32/ktW7aY8fFxuzxqHeZPu7GM2k5ZUo31SkosrHbjGRUzrs10aDeWfnqaoVi5t8BwbabHjh07TLVarb+mt9l1FXX9cW2mQ7uxjLqGuTbTo9148r2Zfu3G0o/vzfRTzSpdX0uXLvWWzBZ1/cV1bZII8NGFdvbsWW/OmMuXL9vx4sWL7di5du2amZqa8uaMWb58uR1redQ6zJ92Yxm1nf5gKpZPPfVUd9Vu0LV24xkVM67NdGg3ln6HDx823/rWt+o3QVyb6XXu3DmzZs2aeqycqOuPazOdmsWS781sahZPvjezp1ks/fjeTDede8XoJz/5ibckKOr6i+vaJBHQhAL08ssvm3379pklS5Z4S7+k7E2zG9eodZh/rWLpNG6ni6lWq5kzZ87YjjoGBwfN9u3bbVYVCycqnq1ixrWZLu1cm+6phst6C9dm+rh+H0ZGRupPoBrxvZkN7cTS4Xsz/VrFk+/N7Gj32uR7M/2OHj1qHn/88chkjiT9vUkiIIQuoD/90z81Bw8etJnvMDdv3rTZtTBR6zC/2omlhG2nao/6o+mqP+oPqrJvV65csfOYf63i2SpmXJvp0e61Gfbkg2szfRRD3Vx+/etfN3v37vWWzsb3Zja0E0vhezMbWsWzVcy4NtOj3WuT781009/OTz75xLzyyivekuaS/t4kEdBA2TZVm1HGzH2xNVL1i97eXm/uy2oYWh61DvOrnVhKu9thYXUbJ67N9Gg3lnpS8cEHH5hnnnnGW4K0axarqOuPazOdoq47vjezZy5/R7k20ykqlnxvpp8SNR9//LG5//77zcqVK81nn31mk6pKEPhFXX9xXZskAnwUgB/+8If2i81lzMIow6bONlStQ/yZt6h1mD/txjJqO93o+F+topjqolu7dq2dx/xpN55RMePaTId2YynKdOuJRWPnRlyb6aHXUblYaFCbR11XjaKuP67NdGg3lnxvZkO78eR7M/3ajaXwvZl+hw4dsjU7NExMTJh169aZ3/zmN4G/p1HXX2zX5sxBwPPiiy9O65T4B/dKBw2rVq2qvy5H81rn38aJWof50W4so7YTvYojbDnmVyfXZlTMNK1lYeswPzqJpcaaD4sT12Z6+GPhf31RYzw13+z6i1qH+dNOLPnezI52r82omGmaa3PhtRtLvjezRTHQ61ddLBrjqflm11/Uulbc6wN79M/MDgAAAAAAQI5VKhVTLpdpGgAAAAAAQJGQCAAAAAAAoEBIBAAAUEDq9G3RokX2vdT+QR1KJcH9Pg2OOsHy/+5t27Z5a+5tv3r1avuuer9my/36+vrs/tRBFgAACCIRAABAQZVKJdtrsboLcsOnn37qrY2fekf+wx/+YKeVBNBrrm7dumV/r8Y3btywy7v1r//6r/Z3AQCAcCQCAADALHrqrpoBevKup+uiJ/DuSbvG/ify/nX6GQ1RT+O1/a9+9Svz1ltvmSVLlthlGmteyYB2NdYo0BBHIgEAgLwjEQAAAAI+//xz8+qrr5pqtWrfPb19+3YzODhon94fPHjQzrv3WvvX6Wf0s1EuX74c+g5rvUf5f/7P/+nNtRb2Pubdu3d7awEAQDMkAgAAKKharWZWrlxZf5ruf9KvZgPr16+301euXDFTU1P1QraWa17L79y5Y5e5dU8++WRb1fKXLVtWrw3QrLZB4/Fp2LRpk/3dfkpGfO9737M1ClasWOEtBQAAzZAIAACgoBr7CNDT/2YFaX+hXGPNy7Vr1+zT/cWLF9v5dqkJgArwot+p333hwgW7LyesD4PGbURJgJ07d9oaBQAAoDUSAQAAoKXGQvndu3dtwXv58uX2Cb2rGdAOV9Ogk59pRn0CrFmzxuzYscNbAgAAWiERAAAAIqktv57CHz161M77X+Gnp/mq5u/Wvffee+azzz6z083oZx5//HGbEHDNAFQ74KWXXgpU+4+iDgnHx8dtXwEAAKB9JAIAAEAkteU/deqUGRkZsU0DnnrqKXPs2LF6M4Jf/vKX9lWAWvfjH//YrFq1yi6PosK7Oh10zQ3uv/9+m1CIap7Q6PDhw+bdd9+1P++Gbdu2eWsBAEAzPdOq3wcAABADPdl/4oknzL59+2ZV11ctgqGhIXP69Ol6J4FJaXYMAAAUXaVSMeVymRoBAABgfqjJwFe+8hVvLjlf+9rXWjZPAACgyKgRAAAAAABAAVAjAAAAAACAAiIRAAAAAABAgZAIAAAAAACgQHquX79OHwEAAAAAABRAuVw2/z8vtCTpd+WvKgAAAABJRU5ErkJggg==)"
      ],
      "metadata": {
        "id": "QOA7-NURUGBJ"
      }
    }
  ]
}